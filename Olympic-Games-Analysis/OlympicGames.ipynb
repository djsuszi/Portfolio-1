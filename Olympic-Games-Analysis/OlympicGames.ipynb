{
 "cells": [
  {
   "cell_type": "markdown",
   "metadata": {
    "_cell_guid": "79c7e3d0-c299-4dcb-8224-4455121ee9b0",
    "_kg_hide-input": false,
    "_kg_hide-output": true,
    "_uuid": "d629ff2d2480ee46fbb7e2d37f6b5fab8052498a",
    "collapsed": true
   },
   "source": [
    "# First Kernel - Olympic Games \n",
    "\n",
    "Hey, thanks for viewing my first Kernel! \n",
    "My name is David and I've been learning Data Science for a month.  \n",
    "\n",
    "\n",
    "**Content**\n",
    "\n",
    "The file athlete_events.csv contains 271116 rows and 15 columns. Each row corresponds to an individual athlete competing in an individual Olympic event (athlete-events). The columns are:\n",
    "\n",
    "1. ID - Unique number for each athlete\n",
    "2. Name - Athlete's name\n",
    "3. Sex - M or F\n",
    "4. Age - Integer\n",
    "5. Height - In centimeters\n",
    "6. Weight - In kilograms\n",
    "7. Team - Team name \n",
    "8. NOC - National Olympic Committee 3-letter code\n",
    "9. Games - Year and season \n",
    "10. Year - Integer\n",
    "11. Season - Summer or Winter\n",
    "12. CIty - Host city \n",
    "13. Sport - Sport\n",
    "14. Event - Event \n",
    "15. Medal - Gold, Silver, Bronze, or NA\n",
    "\n",
    "![](http://upload.wikimedia.org/wikipedia/commons/thumb/5/5c/Olympic_rings_without_rims.svg/1200px-Olympic_rings_without_rims.svg.png)\n"
   ]
  },
  {
   "cell_type": "markdown",
   "metadata": {},
   "source": [
    "# Content:"
   ]
  },
  {
   "cell_type": "markdown",
   "metadata": {
    "_uuid": "7eac0339bf2879e8df95423e98ef08a2fb82bf0a"
   },
   "source": [
    "# 1. Importing the modules"
   ]
  },
  {
   "cell_type": "code",
   "execution_count": 1,
   "metadata": {
    "_uuid": "da13ea63d2c09d2e03e0cad0073e1d5dc5ed41fb"
   },
   "outputs": [],
   "source": [
    "import numpy as np \n",
    "import pandas as pd\n",
    "import seaborn as sns\n",
    "import matplotlib.pyplot as plt\n",
    "%matplotlib inline"
   ]
  },
  {
   "cell_type": "markdown",
   "metadata": {
    "_uuid": "9c07e882517b5405a26729dc552c705e03d77ace"
   },
   "source": [
    "# 2. Importing Data "
   ]
  },
  {
   "cell_type": "code",
   "execution_count": 10,
   "metadata": {
    "_uuid": "3b2f8be37eb1d9b0d118a8a2ff9e5c7279d30e64"
   },
   "outputs": [],
   "source": [
    "events = pd.read_csv('input/athlete_events.csv')\n",
    "regions = pd.read_csv('input/noc_regions.csv')"
   ]
  },
  {
   "cell_type": "markdown",
   "metadata": {
    "_uuid": "07211182b0d94eaa8bbabc11d17a51c356c90eac"
   },
   "source": [
    "# 3. Information about EVENTS and REGIONS"
   ]
  },
  {
   "cell_type": "code",
   "execution_count": 11,
   "metadata": {
    "_uuid": "f9e1eeafdf1bcfab6870ae60cd6d73aae71b0f12"
   },
   "outputs": [
    {
     "data": {
      "text/html": [
       "<div>\n",
       "<style scoped>\n",
       "    .dataframe tbody tr th:only-of-type {\n",
       "        vertical-align: middle;\n",
       "    }\n",
       "\n",
       "    .dataframe tbody tr th {\n",
       "        vertical-align: top;\n",
       "    }\n",
       "\n",
       "    .dataframe thead th {\n",
       "        text-align: right;\n",
       "    }\n",
       "</style>\n",
       "<table border=\"1\" class=\"dataframe\">\n",
       "  <thead>\n",
       "    <tr style=\"text-align: right;\">\n",
       "      <th></th>\n",
       "      <th>ID</th>\n",
       "      <th>Name</th>\n",
       "      <th>Sex</th>\n",
       "      <th>Age</th>\n",
       "      <th>Height</th>\n",
       "      <th>Weight</th>\n",
       "      <th>Team</th>\n",
       "      <th>NOC</th>\n",
       "      <th>Games</th>\n",
       "      <th>Year</th>\n",
       "      <th>Season</th>\n",
       "      <th>City</th>\n",
       "      <th>Sport</th>\n",
       "      <th>Event</th>\n",
       "      <th>Medal</th>\n",
       "    </tr>\n",
       "  </thead>\n",
       "  <tbody>\n",
       "    <tr>\n",
       "      <th>0</th>\n",
       "      <td>1</td>\n",
       "      <td>A Dijiang</td>\n",
       "      <td>M</td>\n",
       "      <td>24.0</td>\n",
       "      <td>180.0</td>\n",
       "      <td>80.0</td>\n",
       "      <td>China</td>\n",
       "      <td>CHN</td>\n",
       "      <td>1992 Summer</td>\n",
       "      <td>1992</td>\n",
       "      <td>Summer</td>\n",
       "      <td>Barcelona</td>\n",
       "      <td>Basketball</td>\n",
       "      <td>Basketball Men's Basketball</td>\n",
       "      <td>NaN</td>\n",
       "    </tr>\n",
       "    <tr>\n",
       "      <th>1</th>\n",
       "      <td>2</td>\n",
       "      <td>A Lamusi</td>\n",
       "      <td>M</td>\n",
       "      <td>23.0</td>\n",
       "      <td>170.0</td>\n",
       "      <td>60.0</td>\n",
       "      <td>China</td>\n",
       "      <td>CHN</td>\n",
       "      <td>2012 Summer</td>\n",
       "      <td>2012</td>\n",
       "      <td>Summer</td>\n",
       "      <td>London</td>\n",
       "      <td>Judo</td>\n",
       "      <td>Judo Men's Extra-Lightweight</td>\n",
       "      <td>NaN</td>\n",
       "    </tr>\n",
       "    <tr>\n",
       "      <th>2</th>\n",
       "      <td>3</td>\n",
       "      <td>Gunnar Nielsen Aaby</td>\n",
       "      <td>M</td>\n",
       "      <td>24.0</td>\n",
       "      <td>NaN</td>\n",
       "      <td>NaN</td>\n",
       "      <td>Denmark</td>\n",
       "      <td>DEN</td>\n",
       "      <td>1920 Summer</td>\n",
       "      <td>1920</td>\n",
       "      <td>Summer</td>\n",
       "      <td>Antwerpen</td>\n",
       "      <td>Football</td>\n",
       "      <td>Football Men's Football</td>\n",
       "      <td>NaN</td>\n",
       "    </tr>\n",
       "    <tr>\n",
       "      <th>3</th>\n",
       "      <td>4</td>\n",
       "      <td>Edgar Lindenau Aabye</td>\n",
       "      <td>M</td>\n",
       "      <td>34.0</td>\n",
       "      <td>NaN</td>\n",
       "      <td>NaN</td>\n",
       "      <td>Denmark/Sweden</td>\n",
       "      <td>DEN</td>\n",
       "      <td>1900 Summer</td>\n",
       "      <td>1900</td>\n",
       "      <td>Summer</td>\n",
       "      <td>Paris</td>\n",
       "      <td>Tug-Of-War</td>\n",
       "      <td>Tug-Of-War Men's Tug-Of-War</td>\n",
       "      <td>Gold</td>\n",
       "    </tr>\n",
       "    <tr>\n",
       "      <th>4</th>\n",
       "      <td>5</td>\n",
       "      <td>Christine Jacoba Aaftink</td>\n",
       "      <td>F</td>\n",
       "      <td>21.0</td>\n",
       "      <td>185.0</td>\n",
       "      <td>82.0</td>\n",
       "      <td>Netherlands</td>\n",
       "      <td>NED</td>\n",
       "      <td>1988 Winter</td>\n",
       "      <td>1988</td>\n",
       "      <td>Winter</td>\n",
       "      <td>Calgary</td>\n",
       "      <td>Speed Skating</td>\n",
       "      <td>Speed Skating Women's 500 metres</td>\n",
       "      <td>NaN</td>\n",
       "    </tr>\n",
       "  </tbody>\n",
       "</table>\n",
       "</div>"
      ],
      "text/plain": [
       "   ID                      Name Sex   Age  Height  Weight            Team  \\\n",
       "0   1                 A Dijiang   M  24.0   180.0    80.0           China   \n",
       "1   2                  A Lamusi   M  23.0   170.0    60.0           China   \n",
       "2   3       Gunnar Nielsen Aaby   M  24.0     NaN     NaN         Denmark   \n",
       "3   4      Edgar Lindenau Aabye   M  34.0     NaN     NaN  Denmark/Sweden   \n",
       "4   5  Christine Jacoba Aaftink   F  21.0   185.0    82.0     Netherlands   \n",
       "\n",
       "   NOC        Games  Year  Season       City          Sport  \\\n",
       "0  CHN  1992 Summer  1992  Summer  Barcelona     Basketball   \n",
       "1  CHN  2012 Summer  2012  Summer     London           Judo   \n",
       "2  DEN  1920 Summer  1920  Summer  Antwerpen       Football   \n",
       "3  DEN  1900 Summer  1900  Summer      Paris     Tug-Of-War   \n",
       "4  NED  1988 Winter  1988  Winter    Calgary  Speed Skating   \n",
       "\n",
       "                              Event Medal  \n",
       "0       Basketball Men's Basketball   NaN  \n",
       "1      Judo Men's Extra-Lightweight   NaN  \n",
       "2           Football Men's Football   NaN  \n",
       "3       Tug-Of-War Men's Tug-Of-War  Gold  \n",
       "4  Speed Skating Women's 500 metres   NaN  "
      ]
     },
     "execution_count": 11,
     "metadata": {},
     "output_type": "execute_result"
    }
   ],
   "source": [
    "events.head()"
   ]
  },
  {
   "cell_type": "code",
   "execution_count": 12,
   "metadata": {
    "_uuid": "506aaf3652ed49d032953af10c0394615e71f35b"
   },
   "outputs": [
    {
     "data": {
      "text/html": [
       "<div>\n",
       "<style scoped>\n",
       "    .dataframe tbody tr th:only-of-type {\n",
       "        vertical-align: middle;\n",
       "    }\n",
       "\n",
       "    .dataframe tbody tr th {\n",
       "        vertical-align: top;\n",
       "    }\n",
       "\n",
       "    .dataframe thead th {\n",
       "        text-align: right;\n",
       "    }\n",
       "</style>\n",
       "<table border=\"1\" class=\"dataframe\">\n",
       "  <thead>\n",
       "    <tr style=\"text-align: right;\">\n",
       "      <th></th>\n",
       "      <th>ID</th>\n",
       "      <th>Age</th>\n",
       "      <th>Height</th>\n",
       "      <th>Weight</th>\n",
       "      <th>Year</th>\n",
       "    </tr>\n",
       "  </thead>\n",
       "  <tbody>\n",
       "    <tr>\n",
       "      <th>count</th>\n",
       "      <td>271116.000000</td>\n",
       "      <td>261642.000000</td>\n",
       "      <td>210945.000000</td>\n",
       "      <td>208241.000000</td>\n",
       "      <td>271116.000000</td>\n",
       "    </tr>\n",
       "    <tr>\n",
       "      <th>mean</th>\n",
       "      <td>68248.954396</td>\n",
       "      <td>25.556898</td>\n",
       "      <td>175.338970</td>\n",
       "      <td>70.702393</td>\n",
       "      <td>1978.378480</td>\n",
       "    </tr>\n",
       "    <tr>\n",
       "      <th>std</th>\n",
       "      <td>39022.286345</td>\n",
       "      <td>6.393561</td>\n",
       "      <td>10.518462</td>\n",
       "      <td>14.348020</td>\n",
       "      <td>29.877632</td>\n",
       "    </tr>\n",
       "    <tr>\n",
       "      <th>min</th>\n",
       "      <td>1.000000</td>\n",
       "      <td>10.000000</td>\n",
       "      <td>127.000000</td>\n",
       "      <td>25.000000</td>\n",
       "      <td>1896.000000</td>\n",
       "    </tr>\n",
       "    <tr>\n",
       "      <th>25%</th>\n",
       "      <td>34643.000000</td>\n",
       "      <td>21.000000</td>\n",
       "      <td>168.000000</td>\n",
       "      <td>60.000000</td>\n",
       "      <td>1960.000000</td>\n",
       "    </tr>\n",
       "    <tr>\n",
       "      <th>50%</th>\n",
       "      <td>68205.000000</td>\n",
       "      <td>24.000000</td>\n",
       "      <td>175.000000</td>\n",
       "      <td>70.000000</td>\n",
       "      <td>1988.000000</td>\n",
       "    </tr>\n",
       "    <tr>\n",
       "      <th>75%</th>\n",
       "      <td>102097.250000</td>\n",
       "      <td>28.000000</td>\n",
       "      <td>183.000000</td>\n",
       "      <td>79.000000</td>\n",
       "      <td>2002.000000</td>\n",
       "    </tr>\n",
       "    <tr>\n",
       "      <th>max</th>\n",
       "      <td>135571.000000</td>\n",
       "      <td>97.000000</td>\n",
       "      <td>226.000000</td>\n",
       "      <td>214.000000</td>\n",
       "      <td>2016.000000</td>\n",
       "    </tr>\n",
       "  </tbody>\n",
       "</table>\n",
       "</div>"
      ],
      "text/plain": [
       "                  ID            Age         Height         Weight  \\\n",
       "count  271116.000000  261642.000000  210945.000000  208241.000000   \n",
       "mean    68248.954396      25.556898     175.338970      70.702393   \n",
       "std     39022.286345       6.393561      10.518462      14.348020   \n",
       "min         1.000000      10.000000     127.000000      25.000000   \n",
       "25%     34643.000000      21.000000     168.000000      60.000000   \n",
       "50%     68205.000000      24.000000     175.000000      70.000000   \n",
       "75%    102097.250000      28.000000     183.000000      79.000000   \n",
       "max    135571.000000      97.000000     226.000000     214.000000   \n",
       "\n",
       "                Year  \n",
       "count  271116.000000  \n",
       "mean     1978.378480  \n",
       "std        29.877632  \n",
       "min      1896.000000  \n",
       "25%      1960.000000  \n",
       "50%      1988.000000  \n",
       "75%      2002.000000  \n",
       "max      2016.000000  "
      ]
     },
     "execution_count": 12,
     "metadata": {},
     "output_type": "execute_result"
    }
   ],
   "source": [
    "events.describe()"
   ]
  },
  {
   "cell_type": "code",
   "execution_count": 13,
   "metadata": {
    "_uuid": "c0c9c2a7eb5123d9469b085a1e02221e4b35febe"
   },
   "outputs": [
    {
     "name": "stdout",
     "output_type": "stream",
     "text": [
      "<class 'pandas.core.frame.DataFrame'>\n",
      "RangeIndex: 271116 entries, 0 to 271115\n",
      "Data columns (total 15 columns):\n",
      "ID        271116 non-null int64\n",
      "Name      271116 non-null object\n",
      "Sex       271116 non-null object\n",
      "Age       261642 non-null float64\n",
      "Height    210945 non-null float64\n",
      "Weight    208241 non-null float64\n",
      "Team      271116 non-null object\n",
      "NOC       271116 non-null object\n",
      "Games     271116 non-null object\n",
      "Year      271116 non-null int64\n",
      "Season    271116 non-null object\n",
      "City      271116 non-null object\n",
      "Sport     271116 non-null object\n",
      "Event     271116 non-null object\n",
      "Medal     39783 non-null object\n",
      "dtypes: float64(3), int64(2), object(10)\n",
      "memory usage: 31.0+ MB\n"
     ]
    }
   ],
   "source": [
    "events.info()"
   ]
  },
  {
   "cell_type": "code",
   "execution_count": 14,
   "metadata": {
    "_uuid": "2caee4dcaec61d54cddb6be9dcea4fd66fb90cca"
   },
   "outputs": [
    {
     "data": {
      "text/html": [
       "<div>\n",
       "<style scoped>\n",
       "    .dataframe tbody tr th:only-of-type {\n",
       "        vertical-align: middle;\n",
       "    }\n",
       "\n",
       "    .dataframe tbody tr th {\n",
       "        vertical-align: top;\n",
       "    }\n",
       "\n",
       "    .dataframe thead th {\n",
       "        text-align: right;\n",
       "    }\n",
       "</style>\n",
       "<table border=\"1\" class=\"dataframe\">\n",
       "  <thead>\n",
       "    <tr style=\"text-align: right;\">\n",
       "      <th></th>\n",
       "      <th>NOC</th>\n",
       "      <th>region</th>\n",
       "      <th>notes</th>\n",
       "    </tr>\n",
       "  </thead>\n",
       "  <tbody>\n",
       "    <tr>\n",
       "      <th>0</th>\n",
       "      <td>AFG</td>\n",
       "      <td>Afghanistan</td>\n",
       "      <td>NaN</td>\n",
       "    </tr>\n",
       "    <tr>\n",
       "      <th>1</th>\n",
       "      <td>AHO</td>\n",
       "      <td>Curacao</td>\n",
       "      <td>Netherlands Antilles</td>\n",
       "    </tr>\n",
       "    <tr>\n",
       "      <th>2</th>\n",
       "      <td>ALB</td>\n",
       "      <td>Albania</td>\n",
       "      <td>NaN</td>\n",
       "    </tr>\n",
       "    <tr>\n",
       "      <th>3</th>\n",
       "      <td>ALG</td>\n",
       "      <td>Algeria</td>\n",
       "      <td>NaN</td>\n",
       "    </tr>\n",
       "    <tr>\n",
       "      <th>4</th>\n",
       "      <td>AND</td>\n",
       "      <td>Andorra</td>\n",
       "      <td>NaN</td>\n",
       "    </tr>\n",
       "  </tbody>\n",
       "</table>\n",
       "</div>"
      ],
      "text/plain": [
       "   NOC       region                 notes\n",
       "0  AFG  Afghanistan                   NaN\n",
       "1  AHO      Curacao  Netherlands Antilles\n",
       "2  ALB      Albania                   NaN\n",
       "3  ALG      Algeria                   NaN\n",
       "4  AND      Andorra                   NaN"
      ]
     },
     "execution_count": 14,
     "metadata": {},
     "output_type": "execute_result"
    }
   ],
   "source": [
    "regions.head()"
   ]
  },
  {
   "cell_type": "code",
   "execution_count": 15,
   "metadata": {
    "_uuid": "9fe55a03aee5c3af49cfca118be12a9e4287205d"
   },
   "outputs": [
    {
     "name": "stdout",
     "output_type": "stream",
     "text": [
      "<class 'pandas.core.frame.DataFrame'>\n",
      "RangeIndex: 230 entries, 0 to 229\n",
      "Data columns (total 3 columns):\n",
      "NOC       230 non-null object\n",
      "region    227 non-null object\n",
      "notes     21 non-null object\n",
      "dtypes: object(3)\n",
      "memory usage: 5.5+ KB\n"
     ]
    }
   ],
   "source": [
    "regions.info()"
   ]
  },
  {
   "cell_type": "markdown",
   "metadata": {
    "_uuid": "95f113b5492bc7ecdf60380f59ebb466b7ca1a6e"
   },
   "source": [
    "# 4. Connecting Data\n",
    "The best option to connect two databases is function merge()\n",
    "[Documentation](http://pandas.pydata.org/pandas-docs/stable/merging.html)"
   ]
  },
  {
   "cell_type": "code",
   "execution_count": 16,
   "metadata": {
    "_uuid": "29ea9ba842fc7014a1dfec300b3ff81360dca71c"
   },
   "outputs": [],
   "source": [
    "data = pd.merge(events,regions,on='NOC',how='left')"
   ]
  },
  {
   "cell_type": "markdown",
   "metadata": {
    "_uuid": "cc14bdc1f8cbe98e271b5920ee01dce5ed5e1f87"
   },
   "source": [
    "From now, we will use DATA"
   ]
  },
  {
   "cell_type": "code",
   "execution_count": 17,
   "metadata": {
    "_uuid": "f8f53f5c5249f9700761f619c44777db9711c992"
   },
   "outputs": [
    {
     "data": {
      "text/html": [
       "<div>\n",
       "<style scoped>\n",
       "    .dataframe tbody tr th:only-of-type {\n",
       "        vertical-align: middle;\n",
       "    }\n",
       "\n",
       "    .dataframe tbody tr th {\n",
       "        vertical-align: top;\n",
       "    }\n",
       "\n",
       "    .dataframe thead th {\n",
       "        text-align: right;\n",
       "    }\n",
       "</style>\n",
       "<table border=\"1\" class=\"dataframe\">\n",
       "  <thead>\n",
       "    <tr style=\"text-align: right;\">\n",
       "      <th></th>\n",
       "      <th>ID</th>\n",
       "      <th>Name</th>\n",
       "      <th>Sex</th>\n",
       "      <th>Age</th>\n",
       "      <th>Height</th>\n",
       "      <th>Weight</th>\n",
       "      <th>Team</th>\n",
       "      <th>NOC</th>\n",
       "      <th>Games</th>\n",
       "      <th>Year</th>\n",
       "      <th>Season</th>\n",
       "      <th>City</th>\n",
       "      <th>Sport</th>\n",
       "      <th>Event</th>\n",
       "      <th>Medal</th>\n",
       "      <th>region</th>\n",
       "      <th>notes</th>\n",
       "    </tr>\n",
       "  </thead>\n",
       "  <tbody>\n",
       "    <tr>\n",
       "      <th>151295</th>\n",
       "      <td>75932</td>\n",
       "      <td>Yuliya Viktorovna Martisova</td>\n",
       "      <td>F</td>\n",
       "      <td>32.0</td>\n",
       "      <td>169.0</td>\n",
       "      <td>64.0</td>\n",
       "      <td>Russia</td>\n",
       "      <td>RUS</td>\n",
       "      <td>2008 Summer</td>\n",
       "      <td>2008</td>\n",
       "      <td>Summer</td>\n",
       "      <td>Beijing</td>\n",
       "      <td>Cycling</td>\n",
       "      <td>Cycling Women's Road Race, Individual</td>\n",
       "      <td>NaN</td>\n",
       "      <td>Russia</td>\n",
       "      <td>NaN</td>\n",
       "    </tr>\n",
       "    <tr>\n",
       "      <th>42719</th>\n",
       "      <td>22040</td>\n",
       "      <td>Elisabeth Anne \"Betsy\" Clifford (-Higgins)</td>\n",
       "      <td>F</td>\n",
       "      <td>22.0</td>\n",
       "      <td>162.0</td>\n",
       "      <td>57.0</td>\n",
       "      <td>Canada</td>\n",
       "      <td>CAN</td>\n",
       "      <td>1976 Winter</td>\n",
       "      <td>1976</td>\n",
       "      <td>Winter</td>\n",
       "      <td>Innsbruck</td>\n",
       "      <td>Alpine Skiing</td>\n",
       "      <td>Alpine Skiing Women's Slalom</td>\n",
       "      <td>NaN</td>\n",
       "      <td>Canada</td>\n",
       "      <td>NaN</td>\n",
       "    </tr>\n",
       "    <tr>\n",
       "      <th>207746</th>\n",
       "      <td>104263</td>\n",
       "      <td>Hayley Dawn Sage</td>\n",
       "      <td>F</td>\n",
       "      <td>22.0</td>\n",
       "      <td>158.0</td>\n",
       "      <td>58.0</td>\n",
       "      <td>Great Britain</td>\n",
       "      <td>GBR</td>\n",
       "      <td>2008 Summer</td>\n",
       "      <td>2008</td>\n",
       "      <td>Summer</td>\n",
       "      <td>Beijing</td>\n",
       "      <td>Diving</td>\n",
       "      <td>Diving Women's Synchronized Springboard</td>\n",
       "      <td>NaN</td>\n",
       "      <td>UK</td>\n",
       "      <td>NaN</td>\n",
       "    </tr>\n",
       "    <tr>\n",
       "      <th>176769</th>\n",
       "      <td>88882</td>\n",
       "      <td>Jon C. Olsen</td>\n",
       "      <td>M</td>\n",
       "      <td>23.0</td>\n",
       "      <td>195.0</td>\n",
       "      <td>82.0</td>\n",
       "      <td>United States</td>\n",
       "      <td>USA</td>\n",
       "      <td>1992 Summer</td>\n",
       "      <td>1992</td>\n",
       "      <td>Summer</td>\n",
       "      <td>Barcelona</td>\n",
       "      <td>Swimming</td>\n",
       "      <td>Swimming Men's 4 x 100 metres Medley Relay</td>\n",
       "      <td>Gold</td>\n",
       "      <td>USA</td>\n",
       "      <td>NaN</td>\n",
       "    </tr>\n",
       "    <tr>\n",
       "      <th>7655</th>\n",
       "      <td>4261</td>\n",
       "      <td>Kang Keam \"Anthony\" Ang</td>\n",
       "      <td>M</td>\n",
       "      <td>21.0</td>\n",
       "      <td>175.0</td>\n",
       "      <td>70.0</td>\n",
       "      <td>Malaysia</td>\n",
       "      <td>MAS</td>\n",
       "      <td>2000 Summer</td>\n",
       "      <td>2000</td>\n",
       "      <td>Summer</td>\n",
       "      <td>Sydney</td>\n",
       "      <td>Swimming</td>\n",
       "      <td>Swimming Men's 4 x 100 metres Medley Relay</td>\n",
       "      <td>NaN</td>\n",
       "      <td>Malaysia</td>\n",
       "      <td>NaN</td>\n",
       "    </tr>\n",
       "  </tbody>\n",
       "</table>\n",
       "</div>"
      ],
      "text/plain": [
       "            ID                                        Name Sex   Age  Height  \\\n",
       "151295   75932                 Yuliya Viktorovna Martisova   F  32.0   169.0   \n",
       "42719    22040  Elisabeth Anne \"Betsy\" Clifford (-Higgins)   F  22.0   162.0   \n",
       "207746  104263                            Hayley Dawn Sage   F  22.0   158.0   \n",
       "176769   88882                                Jon C. Olsen   M  23.0   195.0   \n",
       "7655      4261                     Kang Keam \"Anthony\" Ang   M  21.0   175.0   \n",
       "\n",
       "        Weight           Team  NOC        Games  Year  Season       City  \\\n",
       "151295    64.0         Russia  RUS  2008 Summer  2008  Summer    Beijing   \n",
       "42719     57.0         Canada  CAN  1976 Winter  1976  Winter  Innsbruck   \n",
       "207746    58.0  Great Britain  GBR  2008 Summer  2008  Summer    Beijing   \n",
       "176769    82.0  United States  USA  1992 Summer  1992  Summer  Barcelona   \n",
       "7655      70.0       Malaysia  MAS  2000 Summer  2000  Summer     Sydney   \n",
       "\n",
       "                Sport                                       Event Medal  \\\n",
       "151295        Cycling       Cycling Women's Road Race, Individual   NaN   \n",
       "42719   Alpine Skiing                Alpine Skiing Women's Slalom   NaN   \n",
       "207746         Diving     Diving Women's Synchronized Springboard   NaN   \n",
       "176769       Swimming  Swimming Men's 4 x 100 metres Medley Relay  Gold   \n",
       "7655         Swimming  Swimming Men's 4 x 100 metres Medley Relay   NaN   \n",
       "\n",
       "          region notes  \n",
       "151295    Russia   NaN  \n",
       "42719     Canada   NaN  \n",
       "207746        UK   NaN  \n",
       "176769       USA   NaN  \n",
       "7655    Malaysia   NaN  "
      ]
     },
     "execution_count": 17,
     "metadata": {},
     "output_type": "execute_result"
    }
   ],
   "source": [
    "data.sample(5)"
   ]
  },
  {
   "cell_type": "code",
   "execution_count": 18,
   "metadata": {},
   "outputs": [
    {
     "data": {
      "text/plain": [
       "(271116, 17)"
      ]
     },
     "execution_count": 18,
     "metadata": {},
     "output_type": "execute_result"
    }
   ],
   "source": [
    "data.shape"
   ]
  },
  {
   "cell_type": "markdown",
   "metadata": {
    "_uuid": "d14cdafc4b9cd77cc10d16c95897d8d8c3b720de"
   },
   "source": [
    "# 5. Missing data"
   ]
  },
  {
   "cell_type": "code",
   "execution_count": 19,
   "metadata": {
    "_uuid": "26ddf1b2356308cf616922af0c23a3045f1dfaac"
   },
   "outputs": [
    {
     "data": {
      "text/plain": [
       "ID             0\n",
       "Name           0\n",
       "Sex            0\n",
       "Age         9474\n",
       "Height     60171\n",
       "Weight     62875\n",
       "Team           0\n",
       "NOC            0\n",
       "Games          0\n",
       "Year           0\n",
       "Season         0\n",
       "City           0\n",
       "Sport          0\n",
       "Event          0\n",
       "Medal     231333\n",
       "region       370\n",
       "notes     266077\n",
       "dtype: int64"
      ]
     },
     "execution_count": 19,
     "metadata": {},
     "output_type": "execute_result"
    }
   ],
   "source": [
    "data.isnull().sum()"
   ]
  },
  {
   "cell_type": "code",
   "execution_count": 20,
   "metadata": {
    "_uuid": "8371a4fa01328a1cd4aba6c24939d90047923e38"
   },
   "outputs": [
    {
     "data": {
      "image/png": "[encoded data removed]",
      "text/plain": [
       "<Figure size 1440x720 with 2 Axes>"
      ]
     },
     "metadata": {
      "needs_background": "light"
     },
     "output_type": "display_data"
    }
   ],
   "source": [
    "plt.figure(figsize=(20,10))\n",
    "sns.heatmap(data.isnull(),cbar='False');"
   ]
  },
  {
   "cell_type": "markdown",
   "metadata": {
    "_uuid": "26f8b69451ea139d609454deab17b7acecbc28a8"
   },
   "source": [
    "# 6. Basic Information about SEX, AGE, HEIGHT, WEIGHT"
   ]
  },
  {
   "cell_type": "code",
   "execution_count": 21,
   "metadata": {
    "_uuid": "6baf5654e188f979ad3aadb2ef764bf9c837c405"
   },
   "outputs": [
    {
     "name": "stdout",
     "output_type": "stream",
     "text": [
      "Total athletes in Olympic Games (unique):  135571\n"
     ]
    }
   ],
   "source": [
    "print('Total athletes in Olympic Games (unique): ', len(data['ID'].unique())) #I use unique(), beacause it shows the real number of players without duplication."
   ]
  },
  {
   "cell_type": "code",
   "execution_count": 22,
   "metadata": {
    "_uuid": "415408050f26ea29038d29b8e7baa17035039529"
   },
   "outputs": [
    {
     "name": "stdout",
     "output_type": "stream",
     "text": [
      "Total womens in Olympic Games: 74522\n",
      "Total mens in Olympic Games: 196594\n"
     ]
    }
   ],
   "source": [
    "print(\"Total womens in Olympic Games:\", len(data[data.Sex== 'F']))\n",
    "print(\"Total mens in Olympic Games:\", len(data[data.Sex== 'M']))"
   ]
  },
  {
   "cell_type": "code",
   "execution_count": 23,
   "metadata": {
    "_uuid": "21aa35addf16bbaa58f06ad70f9cc638e7ce208a"
   },
   "outputs": [
    {
     "data": {
      "image/png": "[encoded data removed]",
      "text/plain": [
       "<Figure size 432x288 with 1 Axes>"
      ]
     },
     "metadata": {
      "needs_background": "light"
     },
     "output_type": "display_data"
    }
   ],
   "source": [
    "sns.countplot(data.Sex)\n",
    "plt.title('Male vs. Female', color = 'orange', size=17)\n",
    "plt.show();"
   ]
  },
  {
   "cell_type": "markdown",
   "metadata": {
    "_uuid": "9d46787d8d07bf746b1801d0e5e324cbe7e82896"
   },
   "source": [
    "# 6.1 Age"
   ]
  },
  {
   "cell_type": "code",
   "execution_count": 24,
   "metadata": {
    "_uuid": "37182e1a7f5b6087e2c9292619bcd1fc31dc4dcc"
   },
   "outputs": [
    {
     "name": "stdout",
     "output_type": "stream",
     "text": [
      "Avarge age: 25.556898357297374\n",
      "Minimum age: 10.0\n",
      "Maximum age: 97.0\n"
     ]
    }
   ],
   "source": [
    "print('Avarge age:', data.Age.mean())\n",
    "print('Minimum age:', data.Age.min())\n",
    "print('Maximum age:', data.Age.max())"
   ]
  },
  {
   "cell_type": "markdown",
   "metadata": {
    "_uuid": "ae5e892e3965ad4fa380863d269fde672272a753"
   },
   "source": [
    "## The youngest athlete:"
   ]
  },
  {
   "cell_type": "code",
   "execution_count": 25,
   "metadata": {
    "_uuid": "30a8478885cfa47364f75058a210203cbd0dcbea"
   },
   "outputs": [
    {
     "data": {
      "text/html": [
       "<div>\n",
       "<style scoped>\n",
       "    .dataframe tbody tr th:only-of-type {\n",
       "        vertical-align: middle;\n",
       "    }\n",
       "\n",
       "    .dataframe tbody tr th {\n",
       "        vertical-align: top;\n",
       "    }\n",
       "\n",
       "    .dataframe thead th {\n",
       "        text-align: right;\n",
       "    }\n",
       "</style>\n",
       "<table border=\"1\" class=\"dataframe\">\n",
       "  <thead>\n",
       "    <tr style=\"text-align: right;\">\n",
       "      <th></th>\n",
       "      <th>ID</th>\n",
       "      <th>Name</th>\n",
       "      <th>Sex</th>\n",
       "      <th>Age</th>\n",
       "      <th>Height</th>\n",
       "      <th>Weight</th>\n",
       "      <th>Team</th>\n",
       "      <th>NOC</th>\n",
       "      <th>Games</th>\n",
       "      <th>Year</th>\n",
       "      <th>Season</th>\n",
       "      <th>City</th>\n",
       "      <th>Sport</th>\n",
       "      <th>Event</th>\n",
       "      <th>Medal</th>\n",
       "      <th>region</th>\n",
       "      <th>notes</th>\n",
       "    </tr>\n",
       "  </thead>\n",
       "  <tbody>\n",
       "    <tr>\n",
       "      <th>142882</th>\n",
       "      <td>71691</td>\n",
       "      <td>Dimitrios Loundras</td>\n",
       "      <td>M</td>\n",
       "      <td>10.0</td>\n",
       "      <td>NaN</td>\n",
       "      <td>NaN</td>\n",
       "      <td>Ethnikos Gymnastikos Syllogos</td>\n",
       "      <td>GRE</td>\n",
       "      <td>1896 Summer</td>\n",
       "      <td>1896</td>\n",
       "      <td>Summer</td>\n",
       "      <td>Athina</td>\n",
       "      <td>Gymnastics</td>\n",
       "      <td>Gymnastics Men's Parallel Bars, Teams</td>\n",
       "      <td>Bronze</td>\n",
       "      <td>Greece</td>\n",
       "      <td>NaN</td>\n",
       "    </tr>\n",
       "  </tbody>\n",
       "</table>\n",
       "</div>"
      ],
      "text/plain": [
       "           ID                Name Sex   Age  Height  Weight  \\\n",
       "142882  71691  Dimitrios Loundras   M  10.0     NaN     NaN   \n",
       "\n",
       "                                 Team  NOC        Games  Year  Season    City  \\\n",
       "142882  Ethnikos Gymnastikos Syllogos  GRE  1896 Summer  1896  Summer  Athina   \n",
       "\n",
       "             Sport                                  Event   Medal  region  \\\n",
       "142882  Gymnastics  Gymnastics Men's Parallel Bars, Teams  Bronze  Greece   \n",
       "\n",
       "       notes  \n",
       "142882   NaN  "
      ]
     },
     "execution_count": 25,
     "metadata": {},
     "output_type": "execute_result"
    }
   ],
   "source": [
    "data.loc[(data['Age'] == data['Age'].min())]"
   ]
  },
  {
   "cell_type": "markdown",
   "metadata": {
    "_uuid": "70c6457f62047a5888769d4a7b23555d97907fc7"
   },
   "source": [
    "## The oldest athlete:"
   ]
  },
  {
   "cell_type": "code",
   "execution_count": 26,
   "metadata": {
    "_uuid": "a5de586ad3c4be602ca0936241a3633759da146c"
   },
   "outputs": [
    {
     "data": {
      "text/html": [
       "<div>\n",
       "<style scoped>\n",
       "    .dataframe tbody tr th:only-of-type {\n",
       "        vertical-align: middle;\n",
       "    }\n",
       "\n",
       "    .dataframe tbody tr th {\n",
       "        vertical-align: top;\n",
       "    }\n",
       "\n",
       "    .dataframe thead th {\n",
       "        text-align: right;\n",
       "    }\n",
       "</style>\n",
       "<table border=\"1\" class=\"dataframe\">\n",
       "  <thead>\n",
       "    <tr style=\"text-align: right;\">\n",
       "      <th></th>\n",
       "      <th>ID</th>\n",
       "      <th>Name</th>\n",
       "      <th>Sex</th>\n",
       "      <th>Age</th>\n",
       "      <th>Height</th>\n",
       "      <th>Weight</th>\n",
       "      <th>Team</th>\n",
       "      <th>NOC</th>\n",
       "      <th>Games</th>\n",
       "      <th>Year</th>\n",
       "      <th>Season</th>\n",
       "      <th>City</th>\n",
       "      <th>Sport</th>\n",
       "      <th>Event</th>\n",
       "      <th>Medal</th>\n",
       "      <th>region</th>\n",
       "      <th>notes</th>\n",
       "    </tr>\n",
       "  </thead>\n",
       "  <tbody>\n",
       "    <tr>\n",
       "      <th>257054</th>\n",
       "      <td>128719</td>\n",
       "      <td>John Quincy Adams Ward</td>\n",
       "      <td>M</td>\n",
       "      <td>97.0</td>\n",
       "      <td>NaN</td>\n",
       "      <td>NaN</td>\n",
       "      <td>United States</td>\n",
       "      <td>USA</td>\n",
       "      <td>1928 Summer</td>\n",
       "      <td>1928</td>\n",
       "      <td>Summer</td>\n",
       "      <td>Amsterdam</td>\n",
       "      <td>Art Competitions</td>\n",
       "      <td>Art Competitions Mixed Sculpturing, Statues</td>\n",
       "      <td>NaN</td>\n",
       "      <td>USA</td>\n",
       "      <td>NaN</td>\n",
       "    </tr>\n",
       "  </tbody>\n",
       "</table>\n",
       "</div>"
      ],
      "text/plain": [
       "            ID                    Name Sex   Age  Height  Weight  \\\n",
       "257054  128719  John Quincy Adams Ward   M  97.0     NaN     NaN   \n",
       "\n",
       "                 Team  NOC        Games  Year  Season       City  \\\n",
       "257054  United States  USA  1928 Summer  1928  Summer  Amsterdam   \n",
       "\n",
       "                   Sport                                        Event Medal  \\\n",
       "257054  Art Competitions  Art Competitions Mixed Sculpturing, Statues   NaN   \n",
       "\n",
       "       region notes  \n",
       "257054    USA   NaN  "
      ]
     },
     "execution_count": 26,
     "metadata": {},
     "output_type": "execute_result"
    }
   ],
   "source": [
    "data.loc[(data['Age'] == data['Age'].max())]"
   ]
  },
  {
   "cell_type": "code",
   "execution_count": 27,
   "metadata": {
    "_uuid": "5a705731ee90cc2994c1fd015e31861ca5eea923"
   },
   "outputs": [
    {
     "data": {
      "text/plain": [
       "<matplotlib.axes._subplots.AxesSubplot at 0x7f9eeb4790b8>"
      ]
     },
     "execution_count": 27,
     "metadata": {},
     "output_type": "execute_result"
    },
    {
     "data": {
      "image/png": "[encoded data removed]",
      "text/plain": [
       "<Figure size 1440x1080 with 1 Axes>"
      ]
     },
     "metadata": {
      "needs_background": "light"
     },
     "output_type": "display_data"
    }
   ],
   "source": [
    "plt.figure(figsize=(20,15))\n",
    "sns.boxplot('Year', 'Age', data=data)"
   ]
  },
  {
   "cell_type": "markdown",
   "metadata": {
    "_uuid": "ce243bf899d918d42b17f639b005358d541b5585"
   },
   "source": [
    "# 6.2 Height"
   ]
  },
  {
   "cell_type": "code",
   "execution_count": 28,
   "metadata": {
    "_uuid": "94b9d0f9526feb1f147a3d74db9b19a66e81bc4f"
   },
   "outputs": [
    {
     "name": "stdout",
     "output_type": "stream",
     "text": [
      "Average Height: 175.33896987366376\n",
      "Minimum Height: 127.0\n",
      "Maximum Height: 226.0\n"
     ]
    }
   ],
   "source": [
    "print('Average Height:', data['Height'].mean())\n",
    "print('Minimum Height:', data['Height'].min())\n",
    "print('Maximum Height:', data['Height'].max())"
   ]
  },
  {
   "cell_type": "markdown",
   "metadata": {
    "_uuid": "7314a5d87dceb6f339d32778432cec8758ca56f4"
   },
   "source": [
    "## The highest athlete:"
   ]
  },
  {
   "cell_type": "code",
   "execution_count": 29,
   "metadata": {
    "_uuid": "9ee68e199859a49f494ca86d383460593a90b3f5"
   },
   "outputs": [
    {
     "data": {
      "text/html": [
       "<div>\n",
       "<style scoped>\n",
       "    .dataframe tbody tr th:only-of-type {\n",
       "        vertical-align: middle;\n",
       "    }\n",
       "\n",
       "    .dataframe tbody tr th {\n",
       "        vertical-align: top;\n",
       "    }\n",
       "\n",
       "    .dataframe thead th {\n",
       "        text-align: right;\n",
       "    }\n",
       "</style>\n",
       "<table border=\"1\" class=\"dataframe\">\n",
       "  <thead>\n",
       "    <tr style=\"text-align: right;\">\n",
       "      <th></th>\n",
       "      <th>ID</th>\n",
       "      <th>Name</th>\n",
       "      <th>Sex</th>\n",
       "      <th>Age</th>\n",
       "      <th>Height</th>\n",
       "      <th>Weight</th>\n",
       "      <th>Team</th>\n",
       "      <th>NOC</th>\n",
       "      <th>Games</th>\n",
       "      <th>Year</th>\n",
       "      <th>Season</th>\n",
       "      <th>City</th>\n",
       "      <th>Sport</th>\n",
       "      <th>Event</th>\n",
       "      <th>Medal</th>\n",
       "      <th>region</th>\n",
       "      <th>notes</th>\n",
       "    </tr>\n",
       "  </thead>\n",
       "  <tbody>\n",
       "    <tr>\n",
       "      <th>265040</th>\n",
       "      <td>132627</td>\n",
       "      <td>Yao Ming</td>\n",
       "      <td>M</td>\n",
       "      <td>20.0</td>\n",
       "      <td>226.0</td>\n",
       "      <td>141.0</td>\n",
       "      <td>China</td>\n",
       "      <td>CHN</td>\n",
       "      <td>2000 Summer</td>\n",
       "      <td>2000</td>\n",
       "      <td>Summer</td>\n",
       "      <td>Sydney</td>\n",
       "      <td>Basketball</td>\n",
       "      <td>Basketball Men's Basketball</td>\n",
       "      <td>NaN</td>\n",
       "      <td>China</td>\n",
       "      <td>NaN</td>\n",
       "    </tr>\n",
       "  </tbody>\n",
       "</table>\n",
       "</div>"
      ],
      "text/plain": [
       "            ID      Name Sex   Age  Height  Weight   Team  NOC        Games  \\\n",
       "265040  132627  Yao Ming   M  20.0   226.0   141.0  China  CHN  2000 Summer   \n",
       "\n",
       "        Year  Season    City       Sport                        Event Medal  \\\n",
       "265040  2000  Summer  Sydney  Basketball  Basketball Men's Basketball   NaN   \n",
       "\n",
       "       region notes  \n",
       "265040  China   NaN  "
      ]
     },
     "execution_count": 29,
     "metadata": {},
     "output_type": "execute_result"
    }
   ],
   "source": [
    "data.loc[(data['Height'] == data['Height'].max())].head(1)"
   ]
  },
  {
   "cell_type": "markdown",
   "metadata": {
    "_uuid": "ba78041eb765d064a93ae173eff0230670902e1d"
   },
   "source": [
    "## The lowest athlete (2 person)"
   ]
  },
  {
   "cell_type": "code",
   "execution_count": 30,
   "metadata": {
    "_kg_hide-input": false,
    "_kg_hide-output": false,
    "_uuid": "a196148dfc0028eb28e3bfb017aff6c727f4f7dc"
   },
   "outputs": [
    {
     "data": {
      "text/html": [
       "<div>\n",
       "<style scoped>\n",
       "    .dataframe tbody tr th:only-of-type {\n",
       "        vertical-align: middle;\n",
       "    }\n",
       "\n",
       "    .dataframe tbody tr th {\n",
       "        vertical-align: top;\n",
       "    }\n",
       "\n",
       "    .dataframe thead th {\n",
       "        text-align: right;\n",
       "    }\n",
       "</style>\n",
       "<table border=\"1\" class=\"dataframe\">\n",
       "  <thead>\n",
       "    <tr style=\"text-align: right;\">\n",
       "      <th></th>\n",
       "      <th>ID</th>\n",
       "      <th>Name</th>\n",
       "      <th>Sex</th>\n",
       "      <th>Age</th>\n",
       "      <th>Height</th>\n",
       "      <th>Weight</th>\n",
       "      <th>Team</th>\n",
       "      <th>NOC</th>\n",
       "      <th>Games</th>\n",
       "      <th>Year</th>\n",
       "      <th>Season</th>\n",
       "      <th>City</th>\n",
       "      <th>Sport</th>\n",
       "      <th>Event</th>\n",
       "      <th>Medal</th>\n",
       "      <th>region</th>\n",
       "      <th>notes</th>\n",
       "    </tr>\n",
       "  </thead>\n",
       "  <tbody>\n",
       "    <tr>\n",
       "      <th>29333</th>\n",
       "      <td>15150</td>\n",
       "      <td>Rosario Briones</td>\n",
       "      <td>F</td>\n",
       "      <td>15.0</td>\n",
       "      <td>127.0</td>\n",
       "      <td>42.0</td>\n",
       "      <td>Mexico</td>\n",
       "      <td>MEX</td>\n",
       "      <td>1968 Summer</td>\n",
       "      <td>1968</td>\n",
       "      <td>Summer</td>\n",
       "      <td>Mexico City</td>\n",
       "      <td>Gymnastics</td>\n",
       "      <td>Gymnastics Women's Individual All-Around</td>\n",
       "      <td>NaN</td>\n",
       "      <td>Mexico</td>\n",
       "      <td>NaN</td>\n",
       "    </tr>\n",
       "  </tbody>\n",
       "</table>\n",
       "</div>"
      ],
      "text/plain": [
       "          ID             Name Sex   Age  Height  Weight    Team  NOC  \\\n",
       "29333  15150  Rosario Briones   F  15.0   127.0    42.0  Mexico  MEX   \n",
       "\n",
       "             Games  Year  Season         City       Sport  \\\n",
       "29333  1968 Summer  1968  Summer  Mexico City  Gymnastics   \n",
       "\n",
       "                                          Event Medal  region notes  \n",
       "29333  Gymnastics Women's Individual All-Around   NaN  Mexico   NaN  "
      ]
     },
     "execution_count": 30,
     "metadata": {},
     "output_type": "execute_result"
    }
   ],
   "source": [
    "data.loc[(data['Height'] == data['Height'].min())].head(1)"
   ]
  },
  {
   "cell_type": "code",
   "execution_count": 31,
   "metadata": {
    "_uuid": "5813e948343147ed49f08b0dd601fb558445aec5"
   },
   "outputs": [
    {
     "data": {
      "text/html": [
       "<div>\n",
       "<style scoped>\n",
       "    .dataframe tbody tr th:only-of-type {\n",
       "        vertical-align: middle;\n",
       "    }\n",
       "\n",
       "    .dataframe tbody tr th {\n",
       "        vertical-align: top;\n",
       "    }\n",
       "\n",
       "    .dataframe thead th {\n",
       "        text-align: right;\n",
       "    }\n",
       "</style>\n",
       "<table border=\"1\" class=\"dataframe\">\n",
       "  <thead>\n",
       "    <tr style=\"text-align: right;\">\n",
       "      <th></th>\n",
       "      <th>ID</th>\n",
       "      <th>Name</th>\n",
       "      <th>Sex</th>\n",
       "      <th>Age</th>\n",
       "      <th>Height</th>\n",
       "      <th>Weight</th>\n",
       "      <th>Team</th>\n",
       "      <th>NOC</th>\n",
       "      <th>Games</th>\n",
       "      <th>Year</th>\n",
       "      <th>Season</th>\n",
       "      <th>City</th>\n",
       "      <th>Sport</th>\n",
       "      <th>Event</th>\n",
       "      <th>Medal</th>\n",
       "      <th>region</th>\n",
       "      <th>notes</th>\n",
       "    </tr>\n",
       "  </thead>\n",
       "  <tbody>\n",
       "    <tr>\n",
       "      <th>164821</th>\n",
       "      <td>82769</td>\n",
       "      <td>Lyton Levison Mphande</td>\n",
       "      <td>M</td>\n",
       "      <td>25.0</td>\n",
       "      <td>127.0</td>\n",
       "      <td>62.0</td>\n",
       "      <td>Malawi</td>\n",
       "      <td>MAW</td>\n",
       "      <td>1988 Summer</td>\n",
       "      <td>1988</td>\n",
       "      <td>Summer</td>\n",
       "      <td>Seoul</td>\n",
       "      <td>Boxing</td>\n",
       "      <td>Boxing Men's Light-Welterweight</td>\n",
       "      <td>NaN</td>\n",
       "      <td>Malawi</td>\n",
       "      <td>NaN</td>\n",
       "    </tr>\n",
       "  </tbody>\n",
       "</table>\n",
       "</div>"
      ],
      "text/plain": [
       "           ID                   Name Sex   Age  Height  Weight    Team  NOC  \\\n",
       "164821  82769  Lyton Levison Mphande   M  25.0   127.0    62.0  Malawi  MAW   \n",
       "\n",
       "              Games  Year  Season   City   Sport  \\\n",
       "164821  1988 Summer  1988  Summer  Seoul  Boxing   \n",
       "\n",
       "                                  Event Medal  region notes  \n",
       "164821  Boxing Men's Light-Welterweight   NaN  Malawi   NaN  "
      ]
     },
     "execution_count": 31,
     "metadata": {},
     "output_type": "execute_result"
    }
   ],
   "source": [
    "data.loc[(data['Height'] == data['Height'].min())].tail(1)"
   ]
  },
  {
   "cell_type": "code",
   "execution_count": 32,
   "metadata": {
    "_uuid": "d9a8a54d8a2ebec2bd225609255df5faf968819c"
   },
   "outputs": [
    {
     "data": {
      "text/plain": [
       "<matplotlib.axes._subplots.AxesSubplot at 0x7f9eeb4ece10>"
      ]
     },
     "execution_count": 32,
     "metadata": {},
     "output_type": "execute_result"
    },
    {
     "data": {
      "image/png": "[encoded data removed]",
      "text/plain": [
       "<Figure size 1440x1080 with 1 Axes>"
      ]
     },
     "metadata": {
      "needs_background": "light"
     },
     "output_type": "display_data"
    }
   ],
   "source": [
    "plt.figure(figsize=(20,15))\n",
    "sns.boxplot('Year', 'Height', data=data)"
   ]
  },
  {
   "cell_type": "markdown",
   "metadata": {
    "_uuid": "a9a9097b0ab1081ba70c21c9a53e47e073b4b75e"
   },
   "source": [
    "# 6.3 Weight"
   ]
  },
  {
   "cell_type": "code",
   "execution_count": 33,
   "metadata": {
    "_uuid": "df035543cca8c4bb0c23f036bca0d96247732f81"
   },
   "outputs": [
    {
     "name": "stdout",
     "output_type": "stream",
     "text": [
      "Average Weight: 70.70239290053351\n",
      "Minimum Weight: 25.0\n",
      "Maximum Weight: 214.0\n"
     ]
    }
   ],
   "source": [
    "print('Average Weight:', data['Weight'].mean())\n",
    "print('Minimum Weight:', data['Weight'].min())\n",
    "print('Maximum Weight:', data['Weight'].max())"
   ]
  },
  {
   "cell_type": "markdown",
   "metadata": {
    "_uuid": "7517a190c86907376380ada8a58415c9cc28e056"
   },
   "source": [
    "## Maximum Weight:"
   ]
  },
  {
   "cell_type": "code",
   "execution_count": 34,
   "metadata": {
    "_uuid": "9e357fb8383973245e99e179aac1c86da14ad7fe"
   },
   "outputs": [
    {
     "data": {
      "text/html": [
       "<div>\n",
       "<style scoped>\n",
       "    .dataframe tbody tr th:only-of-type {\n",
       "        vertical-align: middle;\n",
       "    }\n",
       "\n",
       "    .dataframe tbody tr th {\n",
       "        vertical-align: top;\n",
       "    }\n",
       "\n",
       "    .dataframe thead th {\n",
       "        text-align: right;\n",
       "    }\n",
       "</style>\n",
       "<table border=\"1\" class=\"dataframe\">\n",
       "  <thead>\n",
       "    <tr style=\"text-align: right;\">\n",
       "      <th></th>\n",
       "      <th>ID</th>\n",
       "      <th>Name</th>\n",
       "      <th>Sex</th>\n",
       "      <th>Age</th>\n",
       "      <th>Height</th>\n",
       "      <th>Weight</th>\n",
       "      <th>Team</th>\n",
       "      <th>NOC</th>\n",
       "      <th>Games</th>\n",
       "      <th>Year</th>\n",
       "      <th>Season</th>\n",
       "      <th>City</th>\n",
       "      <th>Sport</th>\n",
       "      <th>Event</th>\n",
       "      <th>Medal</th>\n",
       "      <th>region</th>\n",
       "      <th>notes</th>\n",
       "    </tr>\n",
       "  </thead>\n",
       "  <tbody>\n",
       "    <tr>\n",
       "      <th>23155</th>\n",
       "      <td>12177</td>\n",
       "      <td>Ricardo Blas, Jr.</td>\n",
       "      <td>M</td>\n",
       "      <td>21.0</td>\n",
       "      <td>183.0</td>\n",
       "      <td>214.0</td>\n",
       "      <td>Guam</td>\n",
       "      <td>GUM</td>\n",
       "      <td>2008 Summer</td>\n",
       "      <td>2008</td>\n",
       "      <td>Summer</td>\n",
       "      <td>Beijing</td>\n",
       "      <td>Judo</td>\n",
       "      <td>Judo Men's Heavyweight</td>\n",
       "      <td>NaN</td>\n",
       "      <td>Guam</td>\n",
       "      <td>NaN</td>\n",
       "    </tr>\n",
       "  </tbody>\n",
       "</table>\n",
       "</div>"
      ],
      "text/plain": [
       "          ID               Name Sex   Age  Height  Weight  Team  NOC  \\\n",
       "23155  12177  Ricardo Blas, Jr.   M  21.0   183.0   214.0  Guam  GUM   \n",
       "\n",
       "             Games  Year  Season     City Sport                   Event Medal  \\\n",
       "23155  2008 Summer  2008  Summer  Beijing  Judo  Judo Men's Heavyweight   NaN   \n",
       "\n",
       "      region notes  \n",
       "23155   Guam   NaN  "
      ]
     },
     "execution_count": 34,
     "metadata": {},
     "output_type": "execute_result"
    }
   ],
   "source": [
    "data.loc[(data['Weight'] == data['Weight'].max())].head(1)"
   ]
  },
  {
   "cell_type": "markdown",
   "metadata": {
    "_uuid": "3e7e08da10867ba0ae2cd6dfa2825548283c48c4"
   },
   "source": [
    "## Minimum Weight:"
   ]
  },
  {
   "cell_type": "code",
   "execution_count": 35,
   "metadata": {
    "_uuid": "d50fdfc3d900a8bc59062a1c5cbdd376f58e74d1"
   },
   "outputs": [
    {
     "data": {
      "text/html": [
       "<div>\n",
       "<style scoped>\n",
       "    .dataframe tbody tr th:only-of-type {\n",
       "        vertical-align: middle;\n",
       "    }\n",
       "\n",
       "    .dataframe tbody tr th {\n",
       "        vertical-align: top;\n",
       "    }\n",
       "\n",
       "    .dataframe thead th {\n",
       "        text-align: right;\n",
       "    }\n",
       "</style>\n",
       "<table border=\"1\" class=\"dataframe\">\n",
       "  <thead>\n",
       "    <tr style=\"text-align: right;\">\n",
       "      <th></th>\n",
       "      <th>ID</th>\n",
       "      <th>Name</th>\n",
       "      <th>Sex</th>\n",
       "      <th>Age</th>\n",
       "      <th>Height</th>\n",
       "      <th>Weight</th>\n",
       "      <th>Team</th>\n",
       "      <th>NOC</th>\n",
       "      <th>Games</th>\n",
       "      <th>Year</th>\n",
       "      <th>Season</th>\n",
       "      <th>City</th>\n",
       "      <th>Sport</th>\n",
       "      <th>Event</th>\n",
       "      <th>Medal</th>\n",
       "      <th>region</th>\n",
       "      <th>notes</th>\n",
       "    </tr>\n",
       "  </thead>\n",
       "  <tbody>\n",
       "    <tr>\n",
       "      <th>40849</th>\n",
       "      <td>21049</td>\n",
       "      <td>Choi Myong-Hui</td>\n",
       "      <td>F</td>\n",
       "      <td>14.0</td>\n",
       "      <td>135.0</td>\n",
       "      <td>25.0</td>\n",
       "      <td>North Korea</td>\n",
       "      <td>PRK</td>\n",
       "      <td>1980 Summer</td>\n",
       "      <td>1980</td>\n",
       "      <td>Summer</td>\n",
       "      <td>Moskva</td>\n",
       "      <td>Gymnastics</td>\n",
       "      <td>Gymnastics Women's Individual All-Around</td>\n",
       "      <td>NaN</td>\n",
       "      <td>North Korea</td>\n",
       "      <td>NaN</td>\n",
       "    </tr>\n",
       "  </tbody>\n",
       "</table>\n",
       "</div>"
      ],
      "text/plain": [
       "          ID            Name Sex   Age  Height  Weight         Team  NOC  \\\n",
       "40849  21049  Choi Myong-Hui   F  14.0   135.0    25.0  North Korea  PRK   \n",
       "\n",
       "             Games  Year  Season    City       Sport  \\\n",
       "40849  1980 Summer  1980  Summer  Moskva  Gymnastics   \n",
       "\n",
       "                                          Event Medal       region notes  \n",
       "40849  Gymnastics Women's Individual All-Around   NaN  North Korea   NaN  "
      ]
     },
     "execution_count": 35,
     "metadata": {},
     "output_type": "execute_result"
    }
   ],
   "source": [
    "data.loc[(data['Weight'] == data['Weight'].min())].head(1) "
   ]
  },
  {
   "cell_type": "code",
   "execution_count": 36,
   "metadata": {
    "_uuid": "06b3c5f0b6f760e3078124739e474dbbec079702"
   },
   "outputs": [
    {
     "data": {
      "text/plain": [
       "<matplotlib.axes._subplots.AxesSubplot at 0x7f9eeb58e160>"
      ]
     },
     "execution_count": 36,
     "metadata": {},
     "output_type": "execute_result"
    },
    {
     "data": {
      "image/png": "[encoded data removed]",
      "text/plain": [
       "<Figure size 1440x1080 with 1 Axes>"
      ]
     },
     "metadata": {
      "needs_background": "light"
     },
     "output_type": "display_data"
    }
   ],
   "source": [
    "plt.figure(figsize=(20,15))\n",
    "sns.boxplot('Year', 'Weight', data=data)"
   ]
  },
  {
   "cell_type": "markdown",
   "metadata": {
    "_uuid": "fe8c58995d60834804871f5c8e00ce1d8ef61664"
   },
   "source": [
    "# 7. Correlation Age, Height and Weight"
   ]
  },
  {
   "cell_type": "code",
   "execution_count": 37,
   "metadata": {
    "_uuid": "2c62d85f154d3469d836ea901b26a9395b681c40"
   },
   "outputs": [
    {
     "data": {
      "text/plain": [
       "<matplotlib.axes._subplots.AxesSubplot at 0x7f9eec1f5630>"
      ]
     },
     "execution_count": 37,
     "metadata": {},
     "output_type": "execute_result"
    },
    {
     "data": {
      "image/png": "[encoded data removed]",
      "text/plain": [
       "<Figure size 1080x720 with 2 Axes>"
      ]
     },
     "metadata": {
      "needs_background": "light"
     },
     "output_type": "display_data"
    }
   ],
   "source": [
    "corr = data[['Age','Height','Weight']].corr()\n",
    "plt.figure(figsize=(15,10))\n",
    "sns.heatmap(corr,annot=True,lw=.8, cmap=\"Greens\")"
   ]
  },
  {
   "cell_type": "markdown",
   "metadata": {},
   "source": [
    "# 8. Medals"
   ]
  },
  {
   "cell_type": "markdown",
   "metadata": {
    "_uuid": "1af32b12c39807cd1dbb016b948f8c4fc269865e"
   },
   "source": [
    "\n",
    "# 8.1  Medals by country"
   ]
  },
  {
   "cell_type": "code",
   "execution_count": 38,
   "metadata": {},
   "outputs": [],
   "source": [
    "def medal(medal): \n",
    "        x = data[data.Medal == medal].region.value_counts().head(10)\n",
    "        x.plot(kind='bar',figsize=(15,10))\n",
    "        plt.title(medal + ' medals',size=15)\n",
    "        plt.show()"
   ]
  },
  {
   "cell_type": "code",
   "execution_count": 39,
   "metadata": {},
   "outputs": [
    {
     "data": {
      "image/png": "[encoded data removed]",
      "text/plain": [
       "<Figure size 1080x720 with 1 Axes>"
      ]
     },
     "metadata": {
      "needs_background": "light"
     },
     "output_type": "display_data"
    }
   ],
   "source": [
    "medal('Gold')"
   ]
  },
  {
   "cell_type": "code",
   "execution_count": 40,
   "metadata": {
    "_uuid": "f3c1ab9258afa9ed9725142ac9bc6733aed349c3"
   },
   "outputs": [
    {
     "data": {
      "image/png": "[encoded data removed]",
      "text/plain": [
       "<Figure size 1080x720 with 1 Axes>"
      ]
     },
     "metadata": {
      "needs_background": "light"
     },
     "output_type": "display_data"
    }
   ],
   "source": [
    "medal('Silver')"
   ]
  },
  {
   "cell_type": "code",
   "execution_count": 41,
   "metadata": {
    "_uuid": "b1599e6a1e10b59a79ecac1d812bafdd9268adae"
   },
   "outputs": [
    {
     "data": {
      "image/png": "[encoded data removed]",
      "text/plain": [
       "<Figure size 1080x720 with 1 Axes>"
      ]
     },
     "metadata": {
      "needs_background": "light"
     },
     "output_type": "display_data"
    }
   ],
   "source": [
    "medal('Bronze')"
   ]
  },
  {
   "cell_type": "markdown",
   "metadata": {
    "_uuid": "852dd04571af5c6a814ed484f70c9ec79ecfcf1d"
   },
   "source": [
    "# 8.2 Medals by sex"
   ]
  },
  {
   "cell_type": "code",
   "execution_count": 42,
   "metadata": {},
   "outputs": [],
   "source": [
    "def medal_by_sex(medal):\n",
    "    x = data[data.Medal == medal].Sex.value_counts().head(10)\n",
    "    x.plot(kind='bar',figsize=(15,10))\n",
    "    plt.title(medal + ' medals')\n",
    "    print(x)\n",
    "    plt.show();"
   ]
  },
  {
   "cell_type": "code",
   "execution_count": 43,
   "metadata": {},
   "outputs": [
    {
     "name": "stdout",
     "output_type": "stream",
     "text": [
      "M    9625\n",
      "F    3747\n",
      "Name: Sex, dtype: int64\n"
     ]
    },
    {
     "data": {
      "image/png": "[encoded data removed]",
      "text/plain": [
       "<Figure size 1080x720 with 1 Axes>"
      ]
     },
     "metadata": {
      "needs_background": "light"
     },
     "output_type": "display_data"
    }
   ],
   "source": [
    "medal_by_sex('Gold')"
   ]
  },
  {
   "cell_type": "code",
   "execution_count": 44,
   "metadata": {},
   "outputs": [
    {
     "name": "stdout",
     "output_type": "stream",
     "text": [
      "M    9381\n",
      "F    3735\n",
      "Name: Sex, dtype: int64\n"
     ]
    },
    {
     "data": {
      "image/png": "[encoded data removed]",
      "text/plain": [
       "<Figure size 1080x720 with 1 Axes>"
      ]
     },
     "metadata": {
      "needs_background": "light"
     },
     "output_type": "display_data"
    }
   ],
   "source": [
    "medal_by_sex('Silver')"
   ]
  },
  {
   "cell_type": "code",
   "execution_count": 45,
   "metadata": {},
   "outputs": [
    {
     "name": "stdout",
     "output_type": "stream",
     "text": [
      "M    9524\n",
      "F    3771\n",
      "Name: Sex, dtype: int64\n"
     ]
    },
    {
     "data": {
      "image/png": "[encoded data removed]",
      "text/plain": [
       "<Figure size 1080x720 with 1 Axes>"
      ]
     },
     "metadata": {
      "needs_background": "light"
     },
     "output_type": "display_data"
    }
   ],
   "source": [
    "medal_by_sex('Bronze')"
   ]
  },
  {
   "cell_type": "markdown",
   "metadata": {
    "_uuid": "4151970d8da1e1b823b9cc00fbb271e8e006932b"
   },
   "source": [
    "# 9. Womens for the Olympic Games"
   ]
  },
  {
   "cell_type": "markdown",
   "metadata": {
    "_uuid": "6cafcf99acd3254aedf418060c9425161990883b"
   },
   "source": [
    "## Summer Olympic Games:"
   ]
  },
  {
   "cell_type": "code",
   "execution_count": 46,
   "metadata": {
    "_uuid": "1f0ebd66335ceabb08bc5b5511235617a6626462"
   },
   "outputs": [
    {
     "data": {
      "image/png": "[encoded data removed]",
      "text/plain": [
       "<Figure size 2160x720 with 1 Axes>"
      ]
     },
     "metadata": {
      "needs_background": "light"
     },
     "output_type": "display_data"
    }
   ],
   "source": [
    "womens_in_summer_olympic = data[(data.Sex == 'F')&(data.Season == 'Summer')]\n",
    "plt.figure(figsize=(30,10))\n",
    "sns.countplot(x='Year',data=womens_in_summer_olympic,palette='Greens');"
   ]
  },
  {
   "cell_type": "markdown",
   "metadata": {
    "_uuid": "82a17711379774bf20628293a992352ed3b414bf"
   },
   "source": [
    "## Winter Olympic Games:"
   ]
  },
  {
   "cell_type": "code",
   "execution_count": 47,
   "metadata": {
    "_uuid": "f0d4f969a455e029c28bdb04d56a07c87e95124f"
   },
   "outputs": [
    {
     "data": {
      "image/png": "[encoded data removed]",
      "text/plain": [
       "<Figure size 2160x720 with 1 Axes>"
      ]
     },
     "metadata": {
      "needs_background": "light"
     },
     "output_type": "display_data"
    }
   ],
   "source": [
    "womens_in_winter_olympic = data[(data.Sex == 'F')&(data.Season == 'Winter')]\n",
    "plt.figure(figsize=(30,10))\n",
    "sns.countplot(x='Year',data=womens_in_winter_olympic,palette='PuBu');"
   ]
  },
  {
   "cell_type": "markdown",
   "metadata": {
    "_uuid": "be837e6675d7167bfae1b8a9868268267efaec7e"
   },
   "source": [
    "## Summer & Winter Olympic Games"
   ]
  },
  {
   "cell_type": "code",
   "execution_count": 48,
   "metadata": {
    "_uuid": "ddff46f40f817e6ad7ec8c38ad227ad597fbe0cf"
   },
   "outputs": [
    {
     "data": {
      "image/png": "[encoded data removed]",
      "text/plain": [
       "<Figure size 2160x720 with 1 Axes>"
      ]
     },
     "metadata": {
      "needs_background": "light"
     },
     "output_type": "display_data"
    }
   ],
   "source": [
    "womens_in_olympic = data[data.Sex == 'F']\n",
    "plt.figure(figsize=(30,10))\n",
    "sns.countplot(x='Year',data=womens_in_olympic,palette='Oranges');"
   ]
  },
  {
   "cell_type": "markdown",
   "metadata": {
    "_uuid": "96562faf5fa0bfc33b9a2b375a455b75374cc22a"
   },
   "source": [
    " # Gold medals for womens"
   ]
  },
  {
   "cell_type": "code",
   "execution_count": 49,
   "metadata": {
    "_uuid": "6aaccf7a93416083380dc078da11eb8796169354"
   },
   "outputs": [
    {
     "data": {
      "image/png": "[encoded data removed]",
      "text/plain": [
       "<Figure size 2160x720 with 1 Axes>"
      ]
     },
     "metadata": {
      "needs_background": "light"
     },
     "output_type": "display_data"
    }
   ],
   "source": [
    "womens_medals_in_olympic = data[((data.Sex == 'F') & (data.Medal == 'Gold'))]\n",
    "plt.figure(figsize=(30,10))\n",
    "sns.countplot(x='Year',data=womens_medals_in_olympic,palette='PuRd');"
   ]
  },
  {
   "cell_type": "markdown",
   "metadata": {
    "_uuid": "fba4321523e238a463342c2667adcab0979ba74d"
   },
   "source": [
    "# 10. Mens for the Olympic Games"
   ]
  },
  {
   "cell_type": "markdown",
   "metadata": {
    "_uuid": "fd4a3852cb94fa49eccde272f5eec648207bb3f7"
   },
   "source": [
    "## Summer Olympic Games"
   ]
  },
  {
   "cell_type": "code",
   "execution_count": 50,
   "metadata": {
    "_uuid": "22fd8d40d7ca88770064a0e012ae87e97b62386f"
   },
   "outputs": [
    {
     "data": {
      "image/png": "[encoded data removed]",
      "text/plain": [
       "<Figure size 2160x720 with 1 Axes>"
      ]
     },
     "metadata": {
      "needs_background": "light"
     },
     "output_type": "display_data"
    }
   ],
   "source": [
    "mens_in_summer_olympic = data[(data.Sex == 'M')&(data.Season == 'Summer')]\n",
    "plt.figure(figsize=(30,10))\n",
    "sns.countplot(x='Year',data=mens_in_summer_olympic,palette='Greens');"
   ]
  },
  {
   "cell_type": "markdown",
   "metadata": {
    "_uuid": "45ae7131c49504fbd39a2b6e58b1edf55c2e7915"
   },
   "source": [
    "## Winter Olympic Games"
   ]
  },
  {
   "cell_type": "code",
   "execution_count": 51,
   "metadata": {
    "_uuid": "6647b9c5ae844c2a4caa93cf560f6b4dfb34d3d6"
   },
   "outputs": [
    {
     "data": {
      "image/png": "[encoded data removed]",
      "text/plain": [
       "<Figure size 2160x720 with 1 Axes>"
      ]
     },
     "metadata": {
      "needs_background": "light"
     },
     "output_type": "display_data"
    }
   ],
   "source": [
    "mens_in_winter_olympic = data[(data.Sex == 'M')&(data.Season == 'Winter')]\n",
    "plt.figure(figsize=(30,10))\n",
    "sns.countplot(x='Year',data=mens_in_winter_olympic,palette='PuBu');"
   ]
  },
  {
   "cell_type": "markdown",
   "metadata": {
    "_uuid": "d7ec1d451cf2b3bf14fe47bec1e2ab304ffb9a3a"
   },
   "source": [
    "## Summer & Winter Olympic Games"
   ]
  },
  {
   "cell_type": "code",
   "execution_count": 52,
   "metadata": {
    "_kg_hide-input": false,
    "_uuid": "ba9c19e0cd1963312f7c73d18124d3dd43d107e8"
   },
   "outputs": [
    {
     "data": {
      "image/png": "[encoded data removed]",
      "text/plain": [
       "<Figure size 2160x720 with 1 Axes>"
      ]
     },
     "metadata": {
      "needs_background": "light"
     },
     "output_type": "display_data"
    }
   ],
   "source": [
    "mens_in_olympic = data[data.Sex == 'M']\n",
    "plt.figure(figsize=(30,10))\n",
    "sns.countplot(x='Year',data=mens_in_olympic,palette='PuBuGn');"
   ]
  },
  {
   "cell_type": "markdown",
   "metadata": {
    "_uuid": "d242e6baa3173215efc6a5d1cd58feeb580468be"
   },
   "source": [
    "# Gold medals for men"
   ]
  },
  {
   "cell_type": "code",
   "execution_count": 53,
   "metadata": {
    "_uuid": "20cc0b36af398e3aa092dfc6478e77e1bc0f13b0"
   },
   "outputs": [
    {
     "data": {
      "image/png": "[encoded data removed]",
      "text/plain": [
       "<Figure size 2160x720 with 1 Axes>"
      ]
     },
     "metadata": {
      "needs_background": "light"
     },
     "output_type": "display_data"
    }
   ],
   "source": [
    "mens_medals_in_olympic = data[((data.Sex == 'M') & (data.Medal == 'Gold'))]\n",
    "plt.figure(figsize=(30,10))\n",
    "sns.countplot(x='Year',data=mens_medals_in_olympic,palette='OrRd');"
   ]
  },
  {
   "cell_type": "markdown",
   "metadata": {
    "_uuid": "9f07ec18e9128776345f1fe4fb1bb4f35456a3bf"
   },
   "source": [
    "# 11. Top 10 The most popular sports"
   ]
  },
  {
   "cell_type": "code",
   "execution_count": 54,
   "metadata": {
    "_uuid": "c01cdf1e668425a4cc32200d8c014fbba40b1b6b"
   },
   "outputs": [
    {
     "data": {
      "image/png": "[encoded data removed]",
      "text/plain": [
       "<Figure size 1800x1080 with 1 Axes>"
      ]
     },
     "metadata": {
      "needs_background": "light"
     },
     "output_type": "display_data"
    }
   ],
   "source": [
    "top10_sports = ((data.Sport).value_counts()).head(10)\n",
    "plt.figure(figsize=(25,15))\n",
    "plt.title('Sports',size=15)\n",
    "top10_sports.plot(kind='bar');"
   ]
  },
  {
   "cell_type": "markdown",
   "metadata": {
    "_uuid": "57f69740a16d582817e1c014d163c81de6a07b47"
   },
   "source": [
    "## 11.1 Sports 1896\n"
   ]
  },
  {
   "cell_type": "code",
   "execution_count": 55,
   "metadata": {
    "_uuid": "57443889f0969629b2ff3bba3fbe6c2adac69359"
   },
   "outputs": [
    {
     "name": "stdout",
     "output_type": "stream",
     "text": [
      "Total sports: 9\n",
      "Sports in 1896:\n"
     ]
    },
    {
     "data": {
      "text/plain": [
       "['Tennis',\n",
       " 'Athletics',\n",
       " 'Swimming',\n",
       " 'Gymnastics',\n",
       " 'Shooting',\n",
       " 'Cycling',\n",
       " 'Fencing',\n",
       " 'Weightlifting',\n",
       " 'Wrestling']"
      ]
     },
     "execution_count": 55,
     "metadata": {},
     "output_type": "execute_result"
    }
   ],
   "source": [
    "sports_1896 = data[(data.Year == 1896)].Sport.unique().tolist()\n",
    "print('Total sports:',len(sports_1896))\n",
    "print('Sports in 1896:')\n",
    "sports_1896"
   ]
  },
  {
   "cell_type": "markdown",
   "metadata": {
    "_uuid": "9fd7bbe74b5d9afb6bd995cbba2d5f1cfcb3b9dd"
   },
   "source": [
    "## The most popular sports 1896: "
   ]
  },
  {
   "cell_type": "code",
   "execution_count": 56,
   "metadata": {
    "_uuid": "9feba0327395ba23b43206593b42bd155fefebab"
   },
   "outputs": [
    {
     "data": {
      "image/png": "[encoded data removed]",
      "text/plain": [
       "<Figure size 1080x360 with 1 Axes>"
      ]
     },
     "metadata": {
      "needs_background": "light"
     },
     "output_type": "display_data"
    }
   ],
   "source": [
    "sports_1896_value = data[(data.Year == 1896)].Sport.value_counts()\n",
    "plt.figure(figsize=(15,5))\n",
    "sports_1896_value.plot(kind='bar');"
   ]
  },
  {
   "cell_type": "markdown",
   "metadata": {
    "_uuid": "7cab993b97afbf69893bb7c1ea775343bc9bfea9"
   },
   "source": [
    "##  11.2 Sports 2016"
   ]
  },
  {
   "cell_type": "code",
   "execution_count": 57,
   "metadata": {
    "_uuid": "8fdff5a5c05c23411aa1e958ff99b9d141b6a608"
   },
   "outputs": [
    {
     "name": "stdout",
     "output_type": "stream",
     "text": [
      "Total sports: 34\n",
      "Sports in 2016:\n"
     ]
    },
    {
     "data": {
      "text/plain": [
       "['Weightlifting',\n",
       " 'Gymnastics',\n",
       " 'Athletics',\n",
       " 'Rowing',\n",
       " 'Taekwondo',\n",
       " 'Handball',\n",
       " 'Boxing',\n",
       " 'Equestrianism',\n",
       " 'Cycling',\n",
       " 'Volleyball',\n",
       " 'Diving',\n",
       " 'Shooting',\n",
       " 'Judo',\n",
       " 'Football',\n",
       " 'Synchronized Swimming',\n",
       " 'Wrestling',\n",
       " 'Fencing',\n",
       " 'Swimming',\n",
       " 'Badminton',\n",
       " 'Rugby Sevens',\n",
       " 'Table Tennis',\n",
       " 'Water Polo',\n",
       " 'Trampolining',\n",
       " 'Basketball',\n",
       " 'Triathlon',\n",
       " 'Modern Pentathlon',\n",
       " 'Sailing',\n",
       " 'Beach Volleyball',\n",
       " 'Golf',\n",
       " 'Rhythmic Gymnastics',\n",
       " 'Archery',\n",
       " 'Hockey',\n",
       " 'Canoeing',\n",
       " 'Tennis']"
      ]
     },
     "execution_count": 57,
     "metadata": {},
     "output_type": "execute_result"
    }
   ],
   "source": [
    "sports_2016 = data[(data.Year == 2016)].Sport.unique().tolist()\n",
    "print('Total sports:',len(sports_2016))\n",
    "print('Sports in 2016:')\n",
    "sports_2016"
   ]
  },
  {
   "cell_type": "markdown",
   "metadata": {
    "_uuid": "a54cf1e70e70e7f3c7cc2bc4c549ab8b2edac7a8"
   },
   "source": [
    "## Top 10 The most popular games 2016:"
   ]
  },
  {
   "cell_type": "code",
   "execution_count": 58,
   "metadata": {
    "_uuid": "ae9703abcad7e6f0417090908eabf3d07d74b9bb"
   },
   "outputs": [
    {
     "data": {
      "image/png": "[encoded data removed]",
      "text/plain": [
       "<Figure size 1080x360 with 1 Axes>"
      ]
     },
     "metadata": {
      "needs_background": "light"
     },
     "output_type": "display_data"
    }
   ],
   "source": [
    "sports_2016_value = data[(data.Year == 2016)].Sport.value_counts().head(10)\n",
    "plt.figure(figsize=(15,5))\n",
    "sports_2016_value.plot(kind='bar');"
   ]
  },
  {
   "cell_type": "markdown",
   "metadata": {
    "_uuid": "d267dda820b067c02f15ed60dc25b0dbe6c6fd3a"
   },
   "source": [
    "## Womens popular sports:"
   ]
  },
  {
   "cell_type": "code",
   "execution_count": 59,
   "metadata": {
    "_uuid": "430867a79af0a31a05cb9b46922c72bd070a79ee"
   },
   "outputs": [
    {
     "data": {
      "image/png": "[encoded data removed]",
      "text/plain": [
       "<Figure size 1080x360 with 1 Axes>"
      ]
     },
     "metadata": {
      "needs_background": "light"
     },
     "output_type": "display_data"
    }
   ],
   "source": [
    "womens_sports = womens_in_olympic.Sport.value_counts().head(10)\n",
    "plt.figure(figsize=(15,5))\n",
    "womens_sports.plot(kind='bar');"
   ]
  },
  {
   "cell_type": "markdown",
   "metadata": {
    "_uuid": "1c031e0f805f7a8c91ab26f49c9e84e289e4cc8f"
   },
   "source": [
    "## Mens popular sports:"
   ]
  },
  {
   "cell_type": "code",
   "execution_count": 60,
   "metadata": {
    "_uuid": "e802e329b0e2ef0ff53ff046d50a2dc31c30488d"
   },
   "outputs": [
    {
     "data": {
      "image/png": "[encoded data removed]",
      "text/plain": [
       "<Figure size 1080x360 with 1 Axes>"
      ]
     },
     "metadata": {
      "needs_background": "light"
     },
     "output_type": "display_data"
    }
   ],
   "source": [
    "mens_sports = mens_in_olympic.Sport.value_counts().head(10)\n",
    "plt.figure(figsize=(15,5))\n",
    "mens_sports.plot(kind='bar');"
   ]
  },
  {
   "cell_type": "markdown",
   "metadata": {
    "_uuid": "bd011f72a3f0b3eb9a431c7e2cfc76c0037c05b4"
   },
   "source": [
    "# 12. Teams /To Do"
   ]
  },
  {
   "cell_type": "markdown",
   "metadata": {
    "_uuid": "c2a79fb071c151388eab2c480bfa4114cf582fa9"
   },
   "source": [
    "## Top 10 Country"
   ]
  },
  {
   "cell_type": "code",
   "execution_count": 61,
   "metadata": {
    "_uuid": "79d411fc731bb15036bb5474d5b87ea1ba97a0ed"
   },
   "outputs": [
    {
     "data": {
      "image/png": "[encoded data removed]",
      "text/plain": [
       "<Figure size 1080x360 with 1 Axes>"
      ]
     },
     "metadata": {
      "needs_background": "light"
     },
     "output_type": "display_data"
    }
   ],
   "source": [
    "top10_country = data.region.value_counts()\n",
    "plt.figure(figsize=(15,5))\n",
    "top10_country.head(10).plot(kind='bar');"
   ]
  },
  {
   "cell_type": "markdown",
   "metadata": {
    "_uuid": "17749e4bed1468e5faafce655e0353d749e512fc"
   },
   "source": [
    "# 12.1 USA"
   ]
  },
  {
   "cell_type": "markdown",
   "metadata": {
    "_uuid": "2d22fd3baa1e49bd0a1fcc4fe4abdded4b99843f"
   },
   "source": [
    "![](https://upload.wikimedia.org/wikipedia/commons/a/a4/Flag_of_the_United_States.svg)"
   ]
  },
  {
   "cell_type": "code",
   "execution_count": 62,
   "metadata": {
    "_uuid": "f806ade15c75e122f0764bcdc1c57be2d5570adf"
   },
   "outputs": [
    {
     "data": {
      "text/html": [
       "<div>\n",
       "<style scoped>\n",
       "    .dataframe tbody tr th:only-of-type {\n",
       "        vertical-align: middle;\n",
       "    }\n",
       "\n",
       "    .dataframe tbody tr th {\n",
       "        vertical-align: top;\n",
       "    }\n",
       "\n",
       "    .dataframe thead th {\n",
       "        text-align: right;\n",
       "    }\n",
       "</style>\n",
       "<table border=\"1\" class=\"dataframe\">\n",
       "  <thead>\n",
       "    <tr style=\"text-align: right;\">\n",
       "      <th></th>\n",
       "      <th>ID</th>\n",
       "      <th>Name</th>\n",
       "      <th>Sex</th>\n",
       "      <th>Age</th>\n",
       "      <th>Height</th>\n",
       "      <th>Weight</th>\n",
       "      <th>Team</th>\n",
       "      <th>NOC</th>\n",
       "      <th>Games</th>\n",
       "      <th>Year</th>\n",
       "      <th>Season</th>\n",
       "      <th>City</th>\n",
       "      <th>Sport</th>\n",
       "      <th>Event</th>\n",
       "      <th>Medal</th>\n",
       "      <th>region</th>\n",
       "      <th>notes</th>\n",
       "    </tr>\n",
       "  </thead>\n",
       "  <tbody>\n",
       "    <tr>\n",
       "      <th>10</th>\n",
       "      <td>6</td>\n",
       "      <td>Per Knut Aaland</td>\n",
       "      <td>M</td>\n",
       "      <td>31.0</td>\n",
       "      <td>188.0</td>\n",
       "      <td>75.0</td>\n",
       "      <td>United States</td>\n",
       "      <td>USA</td>\n",
       "      <td>1992 Winter</td>\n",
       "      <td>1992</td>\n",
       "      <td>Winter</td>\n",
       "      <td>Albertville</td>\n",
       "      <td>Cross Country Skiing</td>\n",
       "      <td>Cross Country Skiing Men's 10 kilometres</td>\n",
       "      <td>NaN</td>\n",
       "      <td>USA</td>\n",
       "      <td>NaN</td>\n",
       "    </tr>\n",
       "    <tr>\n",
       "      <th>11</th>\n",
       "      <td>6</td>\n",
       "      <td>Per Knut Aaland</td>\n",
       "      <td>M</td>\n",
       "      <td>31.0</td>\n",
       "      <td>188.0</td>\n",
       "      <td>75.0</td>\n",
       "      <td>United States</td>\n",
       "      <td>USA</td>\n",
       "      <td>1992 Winter</td>\n",
       "      <td>1992</td>\n",
       "      <td>Winter</td>\n",
       "      <td>Albertville</td>\n",
       "      <td>Cross Country Skiing</td>\n",
       "      <td>Cross Country Skiing Men's 50 kilometres</td>\n",
       "      <td>NaN</td>\n",
       "      <td>USA</td>\n",
       "      <td>NaN</td>\n",
       "    </tr>\n",
       "    <tr>\n",
       "      <th>12</th>\n",
       "      <td>6</td>\n",
       "      <td>Per Knut Aaland</td>\n",
       "      <td>M</td>\n",
       "      <td>31.0</td>\n",
       "      <td>188.0</td>\n",
       "      <td>75.0</td>\n",
       "      <td>United States</td>\n",
       "      <td>USA</td>\n",
       "      <td>1992 Winter</td>\n",
       "      <td>1992</td>\n",
       "      <td>Winter</td>\n",
       "      <td>Albertville</td>\n",
       "      <td>Cross Country Skiing</td>\n",
       "      <td>Cross Country Skiing Men's 10/15 kilometres Pu...</td>\n",
       "      <td>NaN</td>\n",
       "      <td>USA</td>\n",
       "      <td>NaN</td>\n",
       "    </tr>\n",
       "    <tr>\n",
       "      <th>13</th>\n",
       "      <td>6</td>\n",
       "      <td>Per Knut Aaland</td>\n",
       "      <td>M</td>\n",
       "      <td>31.0</td>\n",
       "      <td>188.0</td>\n",
       "      <td>75.0</td>\n",
       "      <td>United States</td>\n",
       "      <td>USA</td>\n",
       "      <td>1992 Winter</td>\n",
       "      <td>1992</td>\n",
       "      <td>Winter</td>\n",
       "      <td>Albertville</td>\n",
       "      <td>Cross Country Skiing</td>\n",
       "      <td>Cross Country Skiing Men's 4 x 10 kilometres R...</td>\n",
       "      <td>NaN</td>\n",
       "      <td>USA</td>\n",
       "      <td>NaN</td>\n",
       "    </tr>\n",
       "    <tr>\n",
       "      <th>14</th>\n",
       "      <td>6</td>\n",
       "      <td>Per Knut Aaland</td>\n",
       "      <td>M</td>\n",
       "      <td>33.0</td>\n",
       "      <td>188.0</td>\n",
       "      <td>75.0</td>\n",
       "      <td>United States</td>\n",
       "      <td>USA</td>\n",
       "      <td>1994 Winter</td>\n",
       "      <td>1994</td>\n",
       "      <td>Winter</td>\n",
       "      <td>Lillehammer</td>\n",
       "      <td>Cross Country Skiing</td>\n",
       "      <td>Cross Country Skiing Men's 10 kilometres</td>\n",
       "      <td>NaN</td>\n",
       "      <td>USA</td>\n",
       "      <td>NaN</td>\n",
       "    </tr>\n",
       "  </tbody>\n",
       "</table>\n",
       "</div>"
      ],
      "text/plain": [
       "    ID             Name Sex   Age  Height  Weight           Team  NOC  \\\n",
       "10   6  Per Knut Aaland   M  31.0   188.0    75.0  United States  USA   \n",
       "11   6  Per Knut Aaland   M  31.0   188.0    75.0  United States  USA   \n",
       "12   6  Per Knut Aaland   M  31.0   188.0    75.0  United States  USA   \n",
       "13   6  Per Knut Aaland   M  31.0   188.0    75.0  United States  USA   \n",
       "14   6  Per Knut Aaland   M  33.0   188.0    75.0  United States  USA   \n",
       "\n",
       "          Games  Year  Season         City                 Sport  \\\n",
       "10  1992 Winter  1992  Winter  Albertville  Cross Country Skiing   \n",
       "11  1992 Winter  1992  Winter  Albertville  Cross Country Skiing   \n",
       "12  1992 Winter  1992  Winter  Albertville  Cross Country Skiing   \n",
       "13  1992 Winter  1992  Winter  Albertville  Cross Country Skiing   \n",
       "14  1994 Winter  1994  Winter  Lillehammer  Cross Country Skiing   \n",
       "\n",
       "                                                Event Medal region notes  \n",
       "10           Cross Country Skiing Men's 10 kilometres   NaN    USA   NaN  \n",
       "11           Cross Country Skiing Men's 50 kilometres   NaN    USA   NaN  \n",
       "12  Cross Country Skiing Men's 10/15 kilometres Pu...   NaN    USA   NaN  \n",
       "13  Cross Country Skiing Men's 4 x 10 kilometres R...   NaN    USA   NaN  \n",
       "14           Cross Country Skiing Men's 10 kilometres   NaN    USA   NaN  "
      ]
     },
     "execution_count": 62,
     "metadata": {},
     "output_type": "execute_result"
    }
   ],
   "source": [
    "usa_region = data[data.region == 'USA']\n",
    "usa_region.head()"
   ]
  },
  {
   "cell_type": "code",
   "execution_count": 63,
   "metadata": {
    "_uuid": "c7abecd37f7c751975608d972e7536925248cc7c"
   },
   "outputs": [
    {
     "data": {
      "image/png": "[encoded data removed]",
      "text/plain": [
       "<Figure size 1080x360 with 1 Axes>"
      ]
     },
     "metadata": {
      "needs_background": "light"
     },
     "output_type": "display_data"
    }
   ],
   "source": [
    "usa_medals = usa_region.Medal.value_counts()\n",
    "plt.figure(figsize=(15,5))\n",
    "usa_medals.plot(kind='bar');"
   ]
  },
  {
   "cell_type": "code",
   "execution_count": 64,
   "metadata": {},
   "outputs": [],
   "source": [
    "gold_medals_usa = usa_region[(usa_region.Medal == 'Gold')]"
   ]
  },
  {
   "cell_type": "code",
   "execution_count": 65,
   "metadata": {},
   "outputs": [
    {
     "data": {
      "text/html": [
       "<div>\n",
       "<style scoped>\n",
       "    .dataframe tbody tr th:only-of-type {\n",
       "        vertical-align: middle;\n",
       "    }\n",
       "\n",
       "    .dataframe tbody tr th {\n",
       "        vertical-align: top;\n",
       "    }\n",
       "\n",
       "    .dataframe thead th {\n",
       "        text-align: right;\n",
       "    }\n",
       "</style>\n",
       "<table border=\"1\" class=\"dataframe\">\n",
       "  <thead>\n",
       "    <tr style=\"text-align: right;\">\n",
       "      <th></th>\n",
       "      <th>index</th>\n",
       "      <th>Medal</th>\n",
       "    </tr>\n",
       "  </thead>\n",
       "  <tbody>\n",
       "    <tr>\n",
       "      <th>0</th>\n",
       "      <td>Basketball Men's Basketball</td>\n",
       "      <td>186</td>\n",
       "    </tr>\n",
       "    <tr>\n",
       "      <th>1</th>\n",
       "      <td>Swimming Men's 4 x 200 metres Freestyle Relay</td>\n",
       "      <td>111</td>\n",
       "    </tr>\n",
       "    <tr>\n",
       "      <th>2</th>\n",
       "      <td>Rowing Men's Coxed Eights</td>\n",
       "      <td>108</td>\n",
       "    </tr>\n",
       "    <tr>\n",
       "      <th>3</th>\n",
       "      <td>Swimming Men's 4 x 100 metres Medley Relay</td>\n",
       "      <td>108</td>\n",
       "    </tr>\n",
       "    <tr>\n",
       "      <th>4</th>\n",
       "      <td>Basketball Women's Basketball</td>\n",
       "      <td>95</td>\n",
       "    </tr>\n",
       "    <tr>\n",
       "      <th>5</th>\n",
       "      <td>Athletics Men's 4 x 400 metres Relay</td>\n",
       "      <td>81</td>\n",
       "    </tr>\n",
       "    <tr>\n",
       "      <th>6</th>\n",
       "      <td>Swimming Women's 4 x 100 metres Medley Relay</td>\n",
       "      <td>79</td>\n",
       "    </tr>\n",
       "    <tr>\n",
       "      <th>7</th>\n",
       "      <td>Swimming Women's 4 x 100 metres Freestyle Relay</td>\n",
       "      <td>78</td>\n",
       "    </tr>\n",
       "    <tr>\n",
       "      <th>8</th>\n",
       "      <td>Football Women's Football</td>\n",
       "      <td>66</td>\n",
       "    </tr>\n",
       "    <tr>\n",
       "      <th>9</th>\n",
       "      <td>Athletics Men's 4 x 100 metres Relay</td>\n",
       "      <td>63</td>\n",
       "    </tr>\n",
       "  </tbody>\n",
       "</table>\n",
       "</div>"
      ],
      "text/plain": [
       "                                             index  Medal\n",
       "0                      Basketball Men's Basketball    186\n",
       "1    Swimming Men's 4 x 200 metres Freestyle Relay    111\n",
       "2                        Rowing Men's Coxed Eights    108\n",
       "3       Swimming Men's 4 x 100 metres Medley Relay    108\n",
       "4                    Basketball Women's Basketball     95\n",
       "5             Athletics Men's 4 x 400 metres Relay     81\n",
       "6     Swimming Women's 4 x 100 metres Medley Relay     79\n",
       "7  Swimming Women's 4 x 100 metres Freestyle Relay     78\n",
       "8                        Football Women's Football     66\n",
       "9             Athletics Men's 4 x 100 metres Relay     63"
      ]
     },
     "execution_count": 65,
     "metadata": {},
     "output_type": "execute_result"
    }
   ],
   "source": [
    "gold_medals_usa.Event.value_counts().reset_index(name='Medal').head(10)"
   ]
  },
  {
   "cell_type": "markdown",
   "metadata": {},
   "source": [
    "# Basketball Analysis:"
   ]
  },
  {
   "cell_type": "code",
   "execution_count": 66,
   "metadata": {},
   "outputs": [],
   "source": [
    "basketball = usa_region[(usa_region.Event == \"Basketball Men's Basketball\") & (usa_region.Medal == 'Gold')]"
   ]
  },
  {
   "cell_type": "code",
   "execution_count": 67,
   "metadata": {},
   "outputs": [
    {
     "data": {
      "text/html": [
       "<div>\n",
       "<style scoped>\n",
       "    .dataframe tbody tr th:only-of-type {\n",
       "        vertical-align: middle;\n",
       "    }\n",
       "\n",
       "    .dataframe tbody tr th {\n",
       "        vertical-align: top;\n",
       "    }\n",
       "\n",
       "    .dataframe thead th {\n",
       "        text-align: right;\n",
       "    }\n",
       "</style>\n",
       "<table border=\"1\" class=\"dataframe\">\n",
       "  <thead>\n",
       "    <tr style=\"text-align: right;\">\n",
       "      <th></th>\n",
       "      <th>ID</th>\n",
       "      <th>Name</th>\n",
       "      <th>Sex</th>\n",
       "      <th>Age</th>\n",
       "      <th>Height</th>\n",
       "      <th>Weight</th>\n",
       "      <th>Team</th>\n",
       "      <th>NOC</th>\n",
       "      <th>Games</th>\n",
       "      <th>Year</th>\n",
       "      <th>Season</th>\n",
       "      <th>City</th>\n",
       "      <th>Sport</th>\n",
       "      <th>Event</th>\n",
       "      <th>Medal</th>\n",
       "      <th>region</th>\n",
       "      <th>notes</th>\n",
       "    </tr>\n",
       "  </thead>\n",
       "  <tbody>\n",
       "    <tr>\n",
       "      <th>609</th>\n",
       "      <td>351</td>\n",
       "      <td>Julius Shareef Abdur-Rahim</td>\n",
       "      <td>M</td>\n",
       "      <td>23.0</td>\n",
       "      <td>202.0</td>\n",
       "      <td>104.0</td>\n",
       "      <td>United States</td>\n",
       "      <td>USA</td>\n",
       "      <td>2000 Summer</td>\n",
       "      <td>2000</td>\n",
       "      <td>Summer</td>\n",
       "      <td>Sydney</td>\n",
       "      <td>Basketball</td>\n",
       "      <td>Basketball Men's Basketball</td>\n",
       "      <td>Gold</td>\n",
       "      <td>USA</td>\n",
       "      <td>NaN</td>\n",
       "    </tr>\n",
       "    <tr>\n",
       "      <th>4623</th>\n",
       "      <td>2636</td>\n",
       "      <td>Stephen Todd \"Steve\" Alford</td>\n",
       "      <td>M</td>\n",
       "      <td>19.0</td>\n",
       "      <td>185.0</td>\n",
       "      <td>74.0</td>\n",
       "      <td>United States</td>\n",
       "      <td>USA</td>\n",
       "      <td>1984 Summer</td>\n",
       "      <td>1984</td>\n",
       "      <td>Summer</td>\n",
       "      <td>Los Angeles</td>\n",
       "      <td>Basketball</td>\n",
       "      <td>Basketball Men's Basketball</td>\n",
       "      <td>Gold</td>\n",
       "      <td>USA</td>\n",
       "      <td>NaN</td>\n",
       "    </tr>\n",
       "    <tr>\n",
       "      <th>5031</th>\n",
       "      <td>2863</td>\n",
       "      <td>Walter Ray Allen</td>\n",
       "      <td>M</td>\n",
       "      <td>25.0</td>\n",
       "      <td>192.0</td>\n",
       "      <td>93.0</td>\n",
       "      <td>United States</td>\n",
       "      <td>USA</td>\n",
       "      <td>2000 Summer</td>\n",
       "      <td>2000</td>\n",
       "      <td>Summer</td>\n",
       "      <td>Sydney</td>\n",
       "      <td>Basketball</td>\n",
       "      <td>Basketball Men's Basketball</td>\n",
       "      <td>Gold</td>\n",
       "      <td>USA</td>\n",
       "      <td>NaN</td>\n",
       "    </tr>\n",
       "    <tr>\n",
       "      <th>8165</th>\n",
       "      <td>4505</td>\n",
       "      <td>Carmelo Kyan Anthony</td>\n",
       "      <td>M</td>\n",
       "      <td>24.0</td>\n",
       "      <td>203.0</td>\n",
       "      <td>109.0</td>\n",
       "      <td>United States</td>\n",
       "      <td>USA</td>\n",
       "      <td>2008 Summer</td>\n",
       "      <td>2008</td>\n",
       "      <td>Summer</td>\n",
       "      <td>Beijing</td>\n",
       "      <td>Basketball</td>\n",
       "      <td>Basketball Men's Basketball</td>\n",
       "      <td>Gold</td>\n",
       "      <td>USA</td>\n",
       "      <td>NaN</td>\n",
       "    </tr>\n",
       "    <tr>\n",
       "      <th>8166</th>\n",
       "      <td>4505</td>\n",
       "      <td>Carmelo Kyan Anthony</td>\n",
       "      <td>M</td>\n",
       "      <td>28.0</td>\n",
       "      <td>203.0</td>\n",
       "      <td>109.0</td>\n",
       "      <td>United States</td>\n",
       "      <td>USA</td>\n",
       "      <td>2012 Summer</td>\n",
       "      <td>2012</td>\n",
       "      <td>Summer</td>\n",
       "      <td>London</td>\n",
       "      <td>Basketball</td>\n",
       "      <td>Basketball Men's Basketball</td>\n",
       "      <td>Gold</td>\n",
       "      <td>USA</td>\n",
       "      <td>NaN</td>\n",
       "    </tr>\n",
       "  </tbody>\n",
       "</table>\n",
       "</div>"
      ],
      "text/plain": [
       "        ID                         Name Sex   Age  Height  Weight  \\\n",
       "609    351   Julius Shareef Abdur-Rahim   M  23.0   202.0   104.0   \n",
       "4623  2636  Stephen Todd \"Steve\" Alford   M  19.0   185.0    74.0   \n",
       "5031  2863             Walter Ray Allen   M  25.0   192.0    93.0   \n",
       "8165  4505         Carmelo Kyan Anthony   M  24.0   203.0   109.0   \n",
       "8166  4505         Carmelo Kyan Anthony   M  28.0   203.0   109.0   \n",
       "\n",
       "               Team  NOC        Games  Year  Season         City       Sport  \\\n",
       "609   United States  USA  2000 Summer  2000  Summer       Sydney  Basketball   \n",
       "4623  United States  USA  1984 Summer  1984  Summer  Los Angeles  Basketball   \n",
       "5031  United States  USA  2000 Summer  2000  Summer       Sydney  Basketball   \n",
       "8165  United States  USA  2008 Summer  2008  Summer      Beijing  Basketball   \n",
       "8166  United States  USA  2012 Summer  2012  Summer       London  Basketball   \n",
       "\n",
       "                            Event Medal region notes  \n",
       "609   Basketball Men's Basketball  Gold    USA   NaN  \n",
       "4623  Basketball Men's Basketball  Gold    USA   NaN  \n",
       "5031  Basketball Men's Basketball  Gold    USA   NaN  \n",
       "8165  Basketball Men's Basketball  Gold    USA   NaN  \n",
       "8166  Basketball Men's Basketball  Gold    USA   NaN  "
      ]
     },
     "execution_count": 67,
     "metadata": {},
     "output_type": "execute_result"
    }
   ],
   "source": [
    "basketball.head()"
   ]
  },
  {
   "cell_type": "code",
   "execution_count": 68,
   "metadata": {},
   "outputs": [
    {
     "name": "stdout",
     "output_type": "stream",
     "text": [
      "Average Age:  24.77956989247312\n",
      "Average Height:  196.9731182795699\n",
      "Min Height:  177.0\n",
      "Max Height:  216.0\n"
     ]
    }
   ],
   "source": [
    "print('Average Age: ', basketball.Age.mean())\n",
    "print('Average Height: ', basketball.Height.mean())\n",
    "print('Min Height: ', basketball.Height.min())\n",
    "print('Max Height: ', basketball.Height.max())"
   ]
  },
  {
   "cell_type": "markdown",
   "metadata": {},
   "source": [
    "## Boxplot Year - Age"
   ]
  },
  {
   "cell_type": "code",
   "execution_count": 69,
   "metadata": {},
   "outputs": [
    {
     "data": {
      "image/png": "[encoded data removed]",
      "text/plain": [
       "<Figure size 1080x360 with 1 Axes>"
      ]
     },
     "metadata": {
      "needs_background": "light"
     },
     "output_type": "display_data"
    }
   ],
   "source": [
    "plt.figure(figsize=(15,5))\n",
    "sns.boxplot('Year', 'Age', data=basketball, color ='green');"
   ]
  },
  {
   "cell_type": "markdown",
   "metadata": {},
   "source": [
    "## Boxplot Year - Height"
   ]
  },
  {
   "cell_type": "code",
   "execution_count": 70,
   "metadata": {},
   "outputs": [
    {
     "data": {
      "image/png": "[encoded data removed]",
      "text/plain": [
       "<Figure size 1080x360 with 1 Axes>"
      ]
     },
     "metadata": {
      "needs_background": "light"
     },
     "output_type": "display_data"
    }
   ],
   "source": [
    "plt.figure(figsize=(15,5))\n",
    "sns.boxplot('Year', 'Height', data=basketball);"
   ]
  },
  {
   "cell_type": "markdown",
   "metadata": {},
   "source": [
    "## Boxplot Year - Weight"
   ]
  },
  {
   "cell_type": "code",
   "execution_count": 71,
   "metadata": {},
   "outputs": [
    {
     "data": {
      "image/png": "[encoded data removed]",
      "text/plain": [
       "<Figure size 1080x360 with 1 Axes>"
      ]
     },
     "metadata": {
      "needs_background": "light"
     },
     "output_type": "display_data"
    }
   ],
   "source": [
    "plt.figure(figsize=(15,5))\n",
    "sns.boxplot('Year', 'Weight', data=basketball);"
   ]
  },
  {
   "cell_type": "markdown",
   "metadata": {},
   "source": [
    "## Correlation Basketball players"
   ]
  },
  {
   "cell_type": "code",
   "execution_count": 72,
   "metadata": {},
   "outputs": [
    {
     "data": {
      "image/png": "[encoded data removed]",
      "text/plain": [
       "<Figure size 1080x720 with 2 Axes>"
      ]
     },
     "metadata": {
      "needs_background": "light"
     },
     "output_type": "display_data"
    }
   ],
   "source": [
    "basketball_corr = basketball.corr()\n",
    "plt.figure(figsize=(15,10))\n",
    "sns.heatmap(basketball_corr,annot=True,lw=.8, cmap=\"Blues\");"
   ]
  },
  {
   "cell_type": "markdown",
   "metadata": {},
   "source": [
    "# Poland"
   ]
  },
  {
   "cell_type": "code",
   "execution_count": 73,
   "metadata": {},
   "outputs": [],
   "source": [
    "#Flag"
   ]
  },
  {
   "cell_type": "code",
   "execution_count": 74,
   "metadata": {},
   "outputs": [],
   "source": [
    "poland = data[data.region == 'Poland']"
   ]
  },
  {
   "cell_type": "code",
   "execution_count": 75,
   "metadata": {},
   "outputs": [
    {
     "data": {
      "text/html": [
       "<div>\n",
       "<style scoped>\n",
       "    .dataframe tbody tr th:only-of-type {\n",
       "        vertical-align: middle;\n",
       "    }\n",
       "\n",
       "    .dataframe tbody tr th {\n",
       "        vertical-align: top;\n",
       "    }\n",
       "\n",
       "    .dataframe thead th {\n",
       "        text-align: right;\n",
       "    }\n",
       "</style>\n",
       "<table border=\"1\" class=\"dataframe\">\n",
       "  <thead>\n",
       "    <tr style=\"text-align: right;\">\n",
       "      <th></th>\n",
       "      <th>ID</th>\n",
       "      <th>Name</th>\n",
       "      <th>Sex</th>\n",
       "      <th>Age</th>\n",
       "      <th>Height</th>\n",
       "      <th>Weight</th>\n",
       "      <th>Team</th>\n",
       "      <th>NOC</th>\n",
       "      <th>Games</th>\n",
       "      <th>Year</th>\n",
       "      <th>Season</th>\n",
       "      <th>City</th>\n",
       "      <th>Sport</th>\n",
       "      <th>Event</th>\n",
       "      <th>Medal</th>\n",
       "      <th>region</th>\n",
       "      <th>notes</th>\n",
       "    </tr>\n",
       "  </thead>\n",
       "  <tbody>\n",
       "    <tr>\n",
       "      <th>901</th>\n",
       "      <td>513</td>\n",
       "      <td>Mariola Teresa Abrahamczyk (-Fronckowiak)</td>\n",
       "      <td>F</td>\n",
       "      <td>21.0</td>\n",
       "      <td>180.0</td>\n",
       "      <td>70.0</td>\n",
       "      <td>Poland</td>\n",
       "      <td>POL</td>\n",
       "      <td>1980 Summer</td>\n",
       "      <td>1980</td>\n",
       "      <td>Summer</td>\n",
       "      <td>Moskva</td>\n",
       "      <td>Rowing</td>\n",
       "      <td>Rowing Women's Coxed Quadruple Sculls</td>\n",
       "      <td>NaN</td>\n",
       "      <td>Poland</td>\n",
       "      <td>NaN</td>\n",
       "    </tr>\n",
       "    <tr>\n",
       "      <th>997</th>\n",
       "      <td>562</td>\n",
       "      <td>Pawe Abratkiewicz</td>\n",
       "      <td>M</td>\n",
       "      <td>21.0</td>\n",
       "      <td>183.0</td>\n",
       "      <td>84.0</td>\n",
       "      <td>Poland</td>\n",
       "      <td>POL</td>\n",
       "      <td>1992 Winter</td>\n",
       "      <td>1992</td>\n",
       "      <td>Winter</td>\n",
       "      <td>Albertville</td>\n",
       "      <td>Speed Skating</td>\n",
       "      <td>Speed Skating Men's 500 metres</td>\n",
       "      <td>NaN</td>\n",
       "      <td>Poland</td>\n",
       "      <td>NaN</td>\n",
       "    </tr>\n",
       "    <tr>\n",
       "      <th>998</th>\n",
       "      <td>562</td>\n",
       "      <td>Pawe Abratkiewicz</td>\n",
       "      <td>M</td>\n",
       "      <td>21.0</td>\n",
       "      <td>183.0</td>\n",
       "      <td>84.0</td>\n",
       "      <td>Poland</td>\n",
       "      <td>POL</td>\n",
       "      <td>1992 Winter</td>\n",
       "      <td>1992</td>\n",
       "      <td>Winter</td>\n",
       "      <td>Albertville</td>\n",
       "      <td>Speed Skating</td>\n",
       "      <td>Speed Skating Men's 1,000 metres</td>\n",
       "      <td>NaN</td>\n",
       "      <td>Poland</td>\n",
       "      <td>NaN</td>\n",
       "    </tr>\n",
       "    <tr>\n",
       "      <th>999</th>\n",
       "      <td>562</td>\n",
       "      <td>Pawe Abratkiewicz</td>\n",
       "      <td>M</td>\n",
       "      <td>27.0</td>\n",
       "      <td>183.0</td>\n",
       "      <td>84.0</td>\n",
       "      <td>Poland</td>\n",
       "      <td>POL</td>\n",
       "      <td>1998 Winter</td>\n",
       "      <td>1998</td>\n",
       "      <td>Winter</td>\n",
       "      <td>Nagano</td>\n",
       "      <td>Speed Skating</td>\n",
       "      <td>Speed Skating Men's 500 metres</td>\n",
       "      <td>NaN</td>\n",
       "      <td>Poland</td>\n",
       "      <td>NaN</td>\n",
       "    </tr>\n",
       "    <tr>\n",
       "      <th>1000</th>\n",
       "      <td>562</td>\n",
       "      <td>Pawe Abratkiewicz</td>\n",
       "      <td>M</td>\n",
       "      <td>27.0</td>\n",
       "      <td>183.0</td>\n",
       "      <td>84.0</td>\n",
       "      <td>Poland</td>\n",
       "      <td>POL</td>\n",
       "      <td>1998 Winter</td>\n",
       "      <td>1998</td>\n",
       "      <td>Winter</td>\n",
       "      <td>Nagano</td>\n",
       "      <td>Speed Skating</td>\n",
       "      <td>Speed Skating Men's 1,000 metres</td>\n",
       "      <td>NaN</td>\n",
       "      <td>Poland</td>\n",
       "      <td>NaN</td>\n",
       "    </tr>\n",
       "    <tr>\n",
       "      <th>1001</th>\n",
       "      <td>562</td>\n",
       "      <td>Pawe Abratkiewicz</td>\n",
       "      <td>M</td>\n",
       "      <td>31.0</td>\n",
       "      <td>183.0</td>\n",
       "      <td>84.0</td>\n",
       "      <td>Poland</td>\n",
       "      <td>POL</td>\n",
       "      <td>2002 Winter</td>\n",
       "      <td>2002</td>\n",
       "      <td>Winter</td>\n",
       "      <td>Salt Lake City</td>\n",
       "      <td>Speed Skating</td>\n",
       "      <td>Speed Skating Men's 500 metres</td>\n",
       "      <td>NaN</td>\n",
       "      <td>Poland</td>\n",
       "      <td>NaN</td>\n",
       "    </tr>\n",
       "    <tr>\n",
       "      <th>1002</th>\n",
       "      <td>562</td>\n",
       "      <td>Pawe Abratkiewicz</td>\n",
       "      <td>M</td>\n",
       "      <td>31.0</td>\n",
       "      <td>183.0</td>\n",
       "      <td>84.0</td>\n",
       "      <td>Poland</td>\n",
       "      <td>POL</td>\n",
       "      <td>2002 Winter</td>\n",
       "      <td>2002</td>\n",
       "      <td>Winter</td>\n",
       "      <td>Salt Lake City</td>\n",
       "      <td>Speed Skating</td>\n",
       "      <td>Speed Skating Men's 1,000 metres</td>\n",
       "      <td>NaN</td>\n",
       "      <td>Poland</td>\n",
       "      <td>NaN</td>\n",
       "    </tr>\n",
       "    <tr>\n",
       "      <th>1325</th>\n",
       "      <td>745</td>\n",
       "      <td>Kazimierz Piotr Adach</td>\n",
       "      <td>M</td>\n",
       "      <td>23.0</td>\n",
       "      <td>162.0</td>\n",
       "      <td>60.0</td>\n",
       "      <td>Poland</td>\n",
       "      <td>POL</td>\n",
       "      <td>1980 Summer</td>\n",
       "      <td>1980</td>\n",
       "      <td>Summer</td>\n",
       "      <td>Moskva</td>\n",
       "      <td>Boxing</td>\n",
       "      <td>Boxing Men's Lightweight</td>\n",
       "      <td>Bronze</td>\n",
       "      <td>Poland</td>\n",
       "      <td>NaN</td>\n",
       "    </tr>\n",
       "    <tr>\n",
       "      <th>1386</th>\n",
       "      <td>783</td>\n",
       "      <td>Stefan Adamczak</td>\n",
       "      <td>M</td>\n",
       "      <td>31.0</td>\n",
       "      <td>175.0</td>\n",
       "      <td>73.0</td>\n",
       "      <td>Poland</td>\n",
       "      <td>POL</td>\n",
       "      <td>1924 Summer</td>\n",
       "      <td>1924</td>\n",
       "      <td>Summer</td>\n",
       "      <td>Paris</td>\n",
       "      <td>Athletics</td>\n",
       "      <td>Athletics Men's Pole Vault</td>\n",
       "      <td>NaN</td>\n",
       "      <td>Poland</td>\n",
       "      <td>NaN</td>\n",
       "    </tr>\n",
       "    <tr>\n",
       "      <th>1388</th>\n",
       "      <td>785</td>\n",
       "      <td>Dariusz Adamczuk</td>\n",
       "      <td>M</td>\n",
       "      <td>22.0</td>\n",
       "      <td>179.0</td>\n",
       "      <td>78.0</td>\n",
       "      <td>Poland</td>\n",
       "      <td>POL</td>\n",
       "      <td>1992 Summer</td>\n",
       "      <td>1992</td>\n",
       "      <td>Summer</td>\n",
       "      <td>Barcelona</td>\n",
       "      <td>Football</td>\n",
       "      <td>Football Men's Football</td>\n",
       "      <td>Silver</td>\n",
       "      <td>Poland</td>\n",
       "      <td>NaN</td>\n",
       "    </tr>\n",
       "  </tbody>\n",
       "</table>\n",
       "</div>"
      ],
      "text/plain": [
       "       ID                                       Name Sex   Age  Height  \\\n",
       "901   513  Mariola Teresa Abrahamczyk (-Fronckowiak)   F  21.0   180.0   \n",
       "997   562                          Pawe Abratkiewicz   M  21.0   183.0   \n",
       "998   562                          Pawe Abratkiewicz   M  21.0   183.0   \n",
       "999   562                          Pawe Abratkiewicz   M  27.0   183.0   \n",
       "1000  562                          Pawe Abratkiewicz   M  27.0   183.0   \n",
       "1001  562                          Pawe Abratkiewicz   M  31.0   183.0   \n",
       "1002  562                          Pawe Abratkiewicz   M  31.0   183.0   \n",
       "1325  745                      Kazimierz Piotr Adach   M  23.0   162.0   \n",
       "1386  783                            Stefan Adamczak   M  31.0   175.0   \n",
       "1388  785                           Dariusz Adamczuk   M  22.0   179.0   \n",
       "\n",
       "      Weight    Team  NOC        Games  Year  Season            City  \\\n",
       "901     70.0  Poland  POL  1980 Summer  1980  Summer          Moskva   \n",
       "997     84.0  Poland  POL  1992 Winter  1992  Winter     Albertville   \n",
       "998     84.0  Poland  POL  1992 Winter  1992  Winter     Albertville   \n",
       "999     84.0  Poland  POL  1998 Winter  1998  Winter          Nagano   \n",
       "1000    84.0  Poland  POL  1998 Winter  1998  Winter          Nagano   \n",
       "1001    84.0  Poland  POL  2002 Winter  2002  Winter  Salt Lake City   \n",
       "1002    84.0  Poland  POL  2002 Winter  2002  Winter  Salt Lake City   \n",
       "1325    60.0  Poland  POL  1980 Summer  1980  Summer          Moskva   \n",
       "1386    73.0  Poland  POL  1924 Summer  1924  Summer           Paris   \n",
       "1388    78.0  Poland  POL  1992 Summer  1992  Summer       Barcelona   \n",
       "\n",
       "              Sport                                  Event   Medal  region  \\\n",
       "901          Rowing  Rowing Women's Coxed Quadruple Sculls     NaN  Poland   \n",
       "997   Speed Skating         Speed Skating Men's 500 metres     NaN  Poland   \n",
       "998   Speed Skating       Speed Skating Men's 1,000 metres     NaN  Poland   \n",
       "999   Speed Skating         Speed Skating Men's 500 metres     NaN  Poland   \n",
       "1000  Speed Skating       Speed Skating Men's 1,000 metres     NaN  Poland   \n",
       "1001  Speed Skating         Speed Skating Men's 500 metres     NaN  Poland   \n",
       "1002  Speed Skating       Speed Skating Men's 1,000 metres     NaN  Poland   \n",
       "1325         Boxing               Boxing Men's Lightweight  Bronze  Poland   \n",
       "1386      Athletics             Athletics Men's Pole Vault     NaN  Poland   \n",
       "1388       Football                Football Men's Football  Silver  Poland   \n",
       "\n",
       "     notes  \n",
       "901    NaN  \n",
       "997    NaN  \n",
       "998    NaN  \n",
       "999    NaN  \n",
       "1000   NaN  \n",
       "1001   NaN  \n",
       "1002   NaN  \n",
       "1325   NaN  \n",
       "1386   NaN  \n",
       "1388   NaN  "
      ]
     },
     "execution_count": 75,
     "metadata": {},
     "output_type": "execute_result"
    }
   ],
   "source": [
    "poland.head(10)"
   ]
  },
  {
   "cell_type": "code",
   "execution_count": 76,
   "metadata": {},
   "outputs": [],
   "source": [
    "polish_athletes = len(poland.ID.unique())"
   ]
  },
  {
   "cell_type": "code",
   "execution_count": 77,
   "metadata": {},
   "outputs": [
    {
     "data": {
      "text/plain": [
       "2970"
      ]
     },
     "execution_count": 77,
     "metadata": {},
     "output_type": "execute_result"
    }
   ],
   "source": [
    "polish_athletes"
   ]
  },
  {
   "cell_type": "code",
   "execution_count": 78,
   "metadata": {},
   "outputs": [
    {
     "data": {
      "image/png": "[encoded data removed]",
      "text/plain": [
       "<Figure size 1080x360 with 1 Axes>"
      ]
     },
     "metadata": {
      "needs_background": "light"
     },
     "output_type": "display_data"
    }
   ],
   "source": [
    "pl_medals = poland.Medal.value_counts()\n",
    "plt.figure(figsize=(15,5))\n",
    "pl_medals.plot(kind='bar');"
   ]
  },
  {
   "cell_type": "code",
   "execution_count": 79,
   "metadata": {},
   "outputs": [],
   "source": [
    "pl_gold_medals = poland[poland.Medal == 'Gold']"
   ]
  },
  {
   "cell_type": "code",
   "execution_count": 80,
   "metadata": {},
   "outputs": [
    {
     "data": {
      "text/html": [
       "<div>\n",
       "<style scoped>\n",
       "    .dataframe tbody tr th:only-of-type {\n",
       "        vertical-align: middle;\n",
       "    }\n",
       "\n",
       "    .dataframe tbody tr th {\n",
       "        vertical-align: top;\n",
       "    }\n",
       "\n",
       "    .dataframe thead th {\n",
       "        text-align: right;\n",
       "    }\n",
       "</style>\n",
       "<table border=\"1\" class=\"dataframe\">\n",
       "  <thead>\n",
       "    <tr style=\"text-align: right;\">\n",
       "      <th></th>\n",
       "      <th>ID</th>\n",
       "      <th>Name</th>\n",
       "      <th>Sex</th>\n",
       "      <th>Age</th>\n",
       "      <th>Height</th>\n",
       "      <th>Weight</th>\n",
       "      <th>Team</th>\n",
       "      <th>NOC</th>\n",
       "      <th>Games</th>\n",
       "      <th>Year</th>\n",
       "      <th>Season</th>\n",
       "      <th>City</th>\n",
       "      <th>Sport</th>\n",
       "      <th>Event</th>\n",
       "      <th>Medal</th>\n",
       "      <th>region</th>\n",
       "      <th>notes</th>\n",
       "    </tr>\n",
       "  </thead>\n",
       "  <tbody>\n",
       "    <tr>\n",
       "      <th>6542</th>\n",
       "      <td>3662</td>\n",
       "      <td>Zygmunt Jzef Anczok</td>\n",
       "      <td>M</td>\n",
       "      <td>26.0</td>\n",
       "      <td>178.0</td>\n",
       "      <td>77.0</td>\n",
       "      <td>Poland</td>\n",
       "      <td>POL</td>\n",
       "      <td>1972 Summer</td>\n",
       "      <td>1972</td>\n",
       "      <td>Summer</td>\n",
       "      <td>Munich</td>\n",
       "      <td>Football</td>\n",
       "      <td>Football Men's Football</td>\n",
       "      <td>Gold</td>\n",
       "      <td>Poland</td>\n",
       "      <td>NaN</td>\n",
       "    </tr>\n",
       "    <tr>\n",
       "      <th>15808</th>\n",
       "      <td>8525</td>\n",
       "      <td>Waldemar Romuald Baszanowski</td>\n",
       "      <td>M</td>\n",
       "      <td>29.0</td>\n",
       "      <td>165.0</td>\n",
       "      <td>65.5</td>\n",
       "      <td>Poland</td>\n",
       "      <td>POL</td>\n",
       "      <td>1964 Summer</td>\n",
       "      <td>1964</td>\n",
       "      <td>Summer</td>\n",
       "      <td>Tokyo</td>\n",
       "      <td>Weightlifting</td>\n",
       "      <td>Weightlifting Men's Lightweight</td>\n",
       "      <td>Gold</td>\n",
       "      <td>Poland</td>\n",
       "      <td>NaN</td>\n",
       "    </tr>\n",
       "    <tr>\n",
       "      <th>15809</th>\n",
       "      <td>8525</td>\n",
       "      <td>Waldemar Romuald Baszanowski</td>\n",
       "      <td>M</td>\n",
       "      <td>33.0</td>\n",
       "      <td>165.0</td>\n",
       "      <td>65.5</td>\n",
       "      <td>Poland</td>\n",
       "      <td>POL</td>\n",
       "      <td>1968 Summer</td>\n",
       "      <td>1968</td>\n",
       "      <td>Summer</td>\n",
       "      <td>Mexico City</td>\n",
       "      <td>Weightlifting</td>\n",
       "      <td>Weightlifting Men's Lightweight</td>\n",
       "      <td>Gold</td>\n",
       "      <td>Poland</td>\n",
       "      <td>NaN</td>\n",
       "    </tr>\n",
       "    <tr>\n",
       "      <th>16998</th>\n",
       "      <td>9104</td>\n",
       "      <td>Bronisaw Bebel</td>\n",
       "      <td>M</td>\n",
       "      <td>27.0</td>\n",
       "      <td>191.0</td>\n",
       "      <td>91.0</td>\n",
       "      <td>Poland</td>\n",
       "      <td>POL</td>\n",
       "      <td>1976 Summer</td>\n",
       "      <td>1976</td>\n",
       "      <td>Summer</td>\n",
       "      <td>Montreal</td>\n",
       "      <td>Volleyball</td>\n",
       "      <td>Volleyball Men's Volleyball</td>\n",
       "      <td>Gold</td>\n",
       "      <td>Poland</td>\n",
       "      <td>NaN</td>\n",
       "    </tr>\n",
       "    <tr>\n",
       "      <th>23117</th>\n",
       "      <td>12154</td>\n",
       "      <td>Leszek Robert Blanik</td>\n",
       "      <td>M</td>\n",
       "      <td>31.0</td>\n",
       "      <td>163.0</td>\n",
       "      <td>64.0</td>\n",
       "      <td>Poland</td>\n",
       "      <td>POL</td>\n",
       "      <td>2008 Summer</td>\n",
       "      <td>2008</td>\n",
       "      <td>Summer</td>\n",
       "      <td>Beijing</td>\n",
       "      <td>Gymnastics</td>\n",
       "      <td>Gymnastics Men's Horse Vault</td>\n",
       "      <td>Gold</td>\n",
       "      <td>Poland</td>\n",
       "      <td>NaN</td>\n",
       "    </tr>\n",
       "  </tbody>\n",
       "</table>\n",
       "</div>"
      ],
      "text/plain": [
       "          ID                          Name Sex   Age  Height  Weight    Team  \\\n",
       "6542    3662           Zygmunt Jzef Anczok   M  26.0   178.0    77.0  Poland   \n",
       "15808   8525  Waldemar Romuald Baszanowski   M  29.0   165.0    65.5  Poland   \n",
       "15809   8525  Waldemar Romuald Baszanowski   M  33.0   165.0    65.5  Poland   \n",
       "16998   9104                Bronisaw Bebel   M  27.0   191.0    91.0  Poland   \n",
       "23117  12154          Leszek Robert Blanik   M  31.0   163.0    64.0  Poland   \n",
       "\n",
       "       NOC        Games  Year  Season         City          Sport  \\\n",
       "6542   POL  1972 Summer  1972  Summer       Munich       Football   \n",
       "15808  POL  1964 Summer  1964  Summer        Tokyo  Weightlifting   \n",
       "15809  POL  1968 Summer  1968  Summer  Mexico City  Weightlifting   \n",
       "16998  POL  1976 Summer  1976  Summer     Montreal     Volleyball   \n",
       "23117  POL  2008 Summer  2008  Summer      Beijing     Gymnastics   \n",
       "\n",
       "                                 Event Medal  region notes  \n",
       "6542           Football Men's Football  Gold  Poland   NaN  \n",
       "15808  Weightlifting Men's Lightweight  Gold  Poland   NaN  \n",
       "15809  Weightlifting Men's Lightweight  Gold  Poland   NaN  \n",
       "16998      Volleyball Men's Volleyball  Gold  Poland   NaN  \n",
       "23117     Gymnastics Men's Horse Vault  Gold  Poland   NaN  "
      ]
     },
     "execution_count": 80,
     "metadata": {},
     "output_type": "execute_result"
    }
   ],
   "source": [
    "pl_gold_medals.head()"
   ]
  },
  {
   "cell_type": "code",
   "execution_count": 81,
   "metadata": {},
   "outputs": [
    {
     "data": {
      "text/html": [
       "<div>\n",
       "<style scoped>\n",
       "    .dataframe tbody tr th:only-of-type {\n",
       "        vertical-align: middle;\n",
       "    }\n",
       "\n",
       "    .dataframe tbody tr th {\n",
       "        vertical-align: top;\n",
       "    }\n",
       "\n",
       "    .dataframe thead th {\n",
       "        text-align: right;\n",
       "    }\n",
       "</style>\n",
       "<table border=\"1\" class=\"dataframe\">\n",
       "  <thead>\n",
       "    <tr style=\"text-align: right;\">\n",
       "      <th></th>\n",
       "      <th>index</th>\n",
       "      <th>Medal</th>\n",
       "    </tr>\n",
       "  </thead>\n",
       "  <tbody>\n",
       "    <tr>\n",
       "      <th>0</th>\n",
       "      <td>Football Men's Football</td>\n",
       "      <td>17</td>\n",
       "    </tr>\n",
       "    <tr>\n",
       "      <th>1</th>\n",
       "      <td>Volleyball Men's Volleyball</td>\n",
       "      <td>12</td>\n",
       "    </tr>\n",
       "    <tr>\n",
       "      <th>2</th>\n",
       "      <td>Fencing Men's Foil, Team</td>\n",
       "      <td>5</td>\n",
       "    </tr>\n",
       "    <tr>\n",
       "      <th>3</th>\n",
       "      <td>Athletics Women's 4 x 100 metres Relay</td>\n",
       "      <td>4</td>\n",
       "    </tr>\n",
       "    <tr>\n",
       "      <th>4</th>\n",
       "      <td>Rowing Men's Lightweight Double Sculls</td>\n",
       "      <td>4</td>\n",
       "    </tr>\n",
       "    <tr>\n",
       "      <th>5</th>\n",
       "      <td>Rowing Men's Quadruple Sculls</td>\n",
       "      <td>4</td>\n",
       "    </tr>\n",
       "    <tr>\n",
       "      <th>6</th>\n",
       "      <td>Athletics Men's 50 kilometres Walk</td>\n",
       "      <td>3</td>\n",
       "    </tr>\n",
       "    <tr>\n",
       "      <th>7</th>\n",
       "      <td>Boxing Men's Lightweight</td>\n",
       "      <td>3</td>\n",
       "    </tr>\n",
       "    <tr>\n",
       "      <th>8</th>\n",
       "      <td>Modern Pentathlon Men's Team</td>\n",
       "      <td>3</td>\n",
       "    </tr>\n",
       "    <tr>\n",
       "      <th>9</th>\n",
       "      <td>Athletics Men's Shot Put</td>\n",
       "      <td>3</td>\n",
       "    </tr>\n",
       "  </tbody>\n",
       "</table>\n",
       "</div>"
      ],
      "text/plain": [
       "                                    index  Medal\n",
       "0                 Football Men's Football     17\n",
       "1             Volleyball Men's Volleyball     12\n",
       "2                Fencing Men's Foil, Team      5\n",
       "3  Athletics Women's 4 x 100 metres Relay      4\n",
       "4  Rowing Men's Lightweight Double Sculls      4\n",
       "5           Rowing Men's Quadruple Sculls      4\n",
       "6      Athletics Men's 50 kilometres Walk      3\n",
       "7                Boxing Men's Lightweight      3\n",
       "8            Modern Pentathlon Men's Team      3\n",
       "9                Athletics Men's Shot Put      3"
      ]
     },
     "execution_count": 81,
     "metadata": {},
     "output_type": "execute_result"
    }
   ],
   "source": [
    "pl_gold_medals.Event.value_counts().reset_index(name='Medal').head(10)"
   ]
  },
  {
   "cell_type": "markdown",
   "metadata": {},
   "source": [
    "# Football Men's Football:"
   ]
  },
  {
   "cell_type": "code",
   "execution_count": 82,
   "metadata": {},
   "outputs": [],
   "source": [
    "#![]('https://pl.wikipedia.org/wiki/Pi%C5%82ka_no%C5%BCna#/media/File:Football_iu_1996.jpg')"
   ]
  },
  {
   "cell_type": "code",
   "execution_count": 83,
   "metadata": {},
   "outputs": [
    {
     "data": {
      "text/html": [
       "<div>\n",
       "<style scoped>\n",
       "    .dataframe tbody tr th:only-of-type {\n",
       "        vertical-align: middle;\n",
       "    }\n",
       "\n",
       "    .dataframe tbody tr th {\n",
       "        vertical-align: top;\n",
       "    }\n",
       "\n",
       "    .dataframe thead th {\n",
       "        text-align: right;\n",
       "    }\n",
       "</style>\n",
       "<table border=\"1\" class=\"dataframe\">\n",
       "  <thead>\n",
       "    <tr style=\"text-align: right;\">\n",
       "      <th></th>\n",
       "      <th>ID</th>\n",
       "      <th>Name</th>\n",
       "      <th>Sex</th>\n",
       "      <th>Age</th>\n",
       "      <th>Height</th>\n",
       "      <th>Weight</th>\n",
       "      <th>Team</th>\n",
       "      <th>NOC</th>\n",
       "      <th>Games</th>\n",
       "      <th>Year</th>\n",
       "      <th>Season</th>\n",
       "      <th>City</th>\n",
       "      <th>Sport</th>\n",
       "      <th>Event</th>\n",
       "      <th>Medal</th>\n",
       "      <th>region</th>\n",
       "      <th>notes</th>\n",
       "    </tr>\n",
       "  </thead>\n",
       "  <tbody>\n",
       "    <tr>\n",
       "      <th>6542</th>\n",
       "      <td>3662</td>\n",
       "      <td>Zygmunt Jzef Anczok</td>\n",
       "      <td>M</td>\n",
       "      <td>26.0</td>\n",
       "      <td>178.0</td>\n",
       "      <td>77.0</td>\n",
       "      <td>Poland</td>\n",
       "      <td>POL</td>\n",
       "      <td>1972 Summer</td>\n",
       "      <td>1972</td>\n",
       "      <td>Summer</td>\n",
       "      <td>Munich</td>\n",
       "      <td>Football</td>\n",
       "      <td>Football Men's Football</td>\n",
       "      <td>Gold</td>\n",
       "      <td>Poland</td>\n",
       "      <td>NaN</td>\n",
       "    </tr>\n",
       "    <tr>\n",
       "      <th>42834</th>\n",
       "      <td>22103</td>\n",
       "      <td>Lesaw mikiewicz</td>\n",
       "      <td>M</td>\n",
       "      <td>24.0</td>\n",
       "      <td>172.0</td>\n",
       "      <td>71.0</td>\n",
       "      <td>Poland</td>\n",
       "      <td>POL</td>\n",
       "      <td>1972 Summer</td>\n",
       "      <td>1972</td>\n",
       "      <td>Summer</td>\n",
       "      <td>Munich</td>\n",
       "      <td>Football</td>\n",
       "      <td>Football Men's Football</td>\n",
       "      <td>Gold</td>\n",
       "      <td>Poland</td>\n",
       "      <td>NaN</td>\n",
       "    </tr>\n",
       "    <tr>\n",
       "      <th>54599</th>\n",
       "      <td>28004</td>\n",
       "      <td>Kazimierz Deyna</td>\n",
       "      <td>M</td>\n",
       "      <td>24.0</td>\n",
       "      <td>179.0</td>\n",
       "      <td>72.0</td>\n",
       "      <td>Poland</td>\n",
       "      <td>POL</td>\n",
       "      <td>1972 Summer</td>\n",
       "      <td>1972</td>\n",
       "      <td>Summer</td>\n",
       "      <td>Munich</td>\n",
       "      <td>Football</td>\n",
       "      <td>Football Men's Football</td>\n",
       "      <td>Gold</td>\n",
       "      <td>Poland</td>\n",
       "      <td>NaN</td>\n",
       "    </tr>\n",
       "    <tr>\n",
       "      <th>74518</th>\n",
       "      <td>37853</td>\n",
       "      <td>Robert Gadocha</td>\n",
       "      <td>M</td>\n",
       "      <td>26.0</td>\n",
       "      <td>170.0</td>\n",
       "      <td>69.0</td>\n",
       "      <td>Poland</td>\n",
       "      <td>POL</td>\n",
       "      <td>1972 Summer</td>\n",
       "      <td>1972</td>\n",
       "      <td>Summer</td>\n",
       "      <td>Munich</td>\n",
       "      <td>Football</td>\n",
       "      <td>Football Men's Football</td>\n",
       "      <td>Gold</td>\n",
       "      <td>Poland</td>\n",
       "      <td>NaN</td>\n",
       "    </tr>\n",
       "    <tr>\n",
       "      <th>82381</th>\n",
       "      <td>41851</td>\n",
       "      <td>Jerzy Pawe Gorgo</td>\n",
       "      <td>M</td>\n",
       "      <td>23.0</td>\n",
       "      <td>187.0</td>\n",
       "      <td>88.0</td>\n",
       "      <td>Poland</td>\n",
       "      <td>POL</td>\n",
       "      <td>1972 Summer</td>\n",
       "      <td>1972</td>\n",
       "      <td>Summer</td>\n",
       "      <td>Munich</td>\n",
       "      <td>Football</td>\n",
       "      <td>Football Men's Football</td>\n",
       "      <td>Gold</td>\n",
       "      <td>Poland</td>\n",
       "      <td>NaN</td>\n",
       "    </tr>\n",
       "    <tr>\n",
       "      <th>87019</th>\n",
       "      <td>44138</td>\n",
       "      <td>Zbigniew Gut</td>\n",
       "      <td>M</td>\n",
       "      <td>23.0</td>\n",
       "      <td>179.0</td>\n",
       "      <td>77.0</td>\n",
       "      <td>Poland</td>\n",
       "      <td>POL</td>\n",
       "      <td>1972 Summer</td>\n",
       "      <td>1972</td>\n",
       "      <td>Summer</td>\n",
       "      <td>Munich</td>\n",
       "      <td>Football</td>\n",
       "      <td>Football Men's Football</td>\n",
       "      <td>Gold</td>\n",
       "      <td>Poland</td>\n",
       "      <td>NaN</td>\n",
       "    </tr>\n",
       "    <tr>\n",
       "      <th>121475</th>\n",
       "      <td>61419</td>\n",
       "      <td>Kazimierz Kmiecik</td>\n",
       "      <td>M</td>\n",
       "      <td>20.0</td>\n",
       "      <td>175.0</td>\n",
       "      <td>69.0</td>\n",
       "      <td>Poland</td>\n",
       "      <td>POL</td>\n",
       "      <td>1972 Summer</td>\n",
       "      <td>1972</td>\n",
       "      <td>Summer</td>\n",
       "      <td>Munich</td>\n",
       "      <td>Football</td>\n",
       "      <td>Football Men's Football</td>\n",
       "      <td>Gold</td>\n",
       "      <td>Poland</td>\n",
       "      <td>NaN</td>\n",
       "    </tr>\n",
       "    <tr>\n",
       "      <th>125071</th>\n",
       "      <td>63124</td>\n",
       "      <td>Hubert Jerzy Kostka</td>\n",
       "      <td>M</td>\n",
       "      <td>32.0</td>\n",
       "      <td>178.0</td>\n",
       "      <td>75.0</td>\n",
       "      <td>Poland</td>\n",
       "      <td>POL</td>\n",
       "      <td>1972 Summer</td>\n",
       "      <td>1972</td>\n",
       "      <td>Summer</td>\n",
       "      <td>Munich</td>\n",
       "      <td>Football</td>\n",
       "      <td>Football Men's Football</td>\n",
       "      <td>Gold</td>\n",
       "      <td>Poland</td>\n",
       "      <td>NaN</td>\n",
       "    </tr>\n",
       "    <tr>\n",
       "      <th>126444</th>\n",
       "      <td>63762</td>\n",
       "      <td>Jerzy Adam Kraska</td>\n",
       "      <td>M</td>\n",
       "      <td>20.0</td>\n",
       "      <td>176.0</td>\n",
       "      <td>70.0</td>\n",
       "      <td>Poland</td>\n",
       "      <td>POL</td>\n",
       "      <td>1972 Summer</td>\n",
       "      <td>1972</td>\n",
       "      <td>Summer</td>\n",
       "      <td>Munich</td>\n",
       "      <td>Football</td>\n",
       "      <td>Football Men's Football</td>\n",
       "      <td>Gold</td>\n",
       "      <td>Poland</td>\n",
       "      <td>NaN</td>\n",
       "    </tr>\n",
       "    <tr>\n",
       "      <th>133140</th>\n",
       "      <td>67019</td>\n",
       "      <td>Grzegorz Bolesaw Lato</td>\n",
       "      <td>M</td>\n",
       "      <td>22.0</td>\n",
       "      <td>175.0</td>\n",
       "      <td>71.0</td>\n",
       "      <td>Poland</td>\n",
       "      <td>POL</td>\n",
       "      <td>1972 Summer</td>\n",
       "      <td>1972</td>\n",
       "      <td>Summer</td>\n",
       "      <td>Munich</td>\n",
       "      <td>Football</td>\n",
       "      <td>Football Men's Football</td>\n",
       "      <td>Gold</td>\n",
       "      <td>Poland</td>\n",
       "      <td>NaN</td>\n",
       "    </tr>\n",
       "    <tr>\n",
       "      <th>143351</th>\n",
       "      <td>71944</td>\n",
       "      <td>Wodzimierz Leonard Lubaski</td>\n",
       "      <td>M</td>\n",
       "      <td>25.0</td>\n",
       "      <td>178.0</td>\n",
       "      <td>77.0</td>\n",
       "      <td>Poland</td>\n",
       "      <td>POL</td>\n",
       "      <td>1972 Summer</td>\n",
       "      <td>1972</td>\n",
       "      <td>Summer</td>\n",
       "      <td>Munich</td>\n",
       "      <td>Football</td>\n",
       "      <td>Football Men's Football</td>\n",
       "      <td>Gold</td>\n",
       "      <td>Poland</td>\n",
       "      <td>NaN</td>\n",
       "    </tr>\n",
       "    <tr>\n",
       "      <th>151452</th>\n",
       "      <td>76019</td>\n",
       "      <td>Joachim Jerzy Marx</td>\n",
       "      <td>M</td>\n",
       "      <td>27.0</td>\n",
       "      <td>180.0</td>\n",
       "      <td>75.0</td>\n",
       "      <td>Poland</td>\n",
       "      <td>POL</td>\n",
       "      <td>1972 Summer</td>\n",
       "      <td>1972</td>\n",
       "      <td>Summer</td>\n",
       "      <td>Munich</td>\n",
       "      <td>Football</td>\n",
       "      <td>Football Men's Football</td>\n",
       "      <td>Gold</td>\n",
       "      <td>Poland</td>\n",
       "      <td>NaN</td>\n",
       "    </tr>\n",
       "    <tr>\n",
       "      <th>152046</th>\n",
       "      <td>76313</td>\n",
       "      <td>Zygmunt Pawe Maszczyk</td>\n",
       "      <td>M</td>\n",
       "      <td>27.0</td>\n",
       "      <td>175.0</td>\n",
       "      <td>71.0</td>\n",
       "      <td>Poland</td>\n",
       "      <td>POL</td>\n",
       "      <td>1972 Summer</td>\n",
       "      <td>1972</td>\n",
       "      <td>Summer</td>\n",
       "      <td>Munich</td>\n",
       "      <td>Football</td>\n",
       "      <td>Football Men's Football</td>\n",
       "      <td>Gold</td>\n",
       "      <td>Poland</td>\n",
       "      <td>NaN</td>\n",
       "    </tr>\n",
       "    <tr>\n",
       "      <th>178695</th>\n",
       "      <td>89818</td>\n",
       "      <td>Marian Wiesaw Ostafiski</td>\n",
       "      <td>M</td>\n",
       "      <td>25.0</td>\n",
       "      <td>181.0</td>\n",
       "      <td>78.0</td>\n",
       "      <td>Poland</td>\n",
       "      <td>POL</td>\n",
       "      <td>1972 Summer</td>\n",
       "      <td>1972</td>\n",
       "      <td>Summer</td>\n",
       "      <td>Munich</td>\n",
       "      <td>Football</td>\n",
       "      <td>Football Men's Football</td>\n",
       "      <td>Gold</td>\n",
       "      <td>Poland</td>\n",
       "      <td>NaN</td>\n",
       "    </tr>\n",
       "    <tr>\n",
       "      <th>234511</th>\n",
       "      <td>117600</td>\n",
       "      <td>Zygfryd Ludwik Szotysik</td>\n",
       "      <td>M</td>\n",
       "      <td>29.0</td>\n",
       "      <td>162.0</td>\n",
       "      <td>60.0</td>\n",
       "      <td>Poland</td>\n",
       "      <td>POL</td>\n",
       "      <td>1972 Summer</td>\n",
       "      <td>1972</td>\n",
       "      <td>Summer</td>\n",
       "      <td>Munich</td>\n",
       "      <td>Football</td>\n",
       "      <td>Football Men's Football</td>\n",
       "      <td>Gold</td>\n",
       "      <td>Poland</td>\n",
       "      <td>NaN</td>\n",
       "    </tr>\n",
       "    <tr>\n",
       "      <th>234606</th>\n",
       "      <td>117651</td>\n",
       "      <td>Antoni Jan Szymanowski</td>\n",
       "      <td>M</td>\n",
       "      <td>21.0</td>\n",
       "      <td>180.0</td>\n",
       "      <td>73.0</td>\n",
       "      <td>Poland</td>\n",
       "      <td>POL</td>\n",
       "      <td>1972 Summer</td>\n",
       "      <td>1972</td>\n",
       "      <td>Summer</td>\n",
       "      <td>Munich</td>\n",
       "      <td>Football</td>\n",
       "      <td>Football Men's Football</td>\n",
       "      <td>Gold</td>\n",
       "      <td>Poland</td>\n",
       "      <td>NaN</td>\n",
       "    </tr>\n",
       "    <tr>\n",
       "      <th>234622</th>\n",
       "      <td>117662</td>\n",
       "      <td>Ryszard Wiesaw Szymczak</td>\n",
       "      <td>M</td>\n",
       "      <td>27.0</td>\n",
       "      <td>170.0</td>\n",
       "      <td>65.0</td>\n",
       "      <td>Poland</td>\n",
       "      <td>POL</td>\n",
       "      <td>1972 Summer</td>\n",
       "      <td>1972</td>\n",
       "      <td>Summer</td>\n",
       "      <td>Munich</td>\n",
       "      <td>Football</td>\n",
       "      <td>Football Men's Football</td>\n",
       "      <td>Gold</td>\n",
       "      <td>Poland</td>\n",
       "      <td>NaN</td>\n",
       "    </tr>\n",
       "  </tbody>\n",
       "</table>\n",
       "</div>"
      ],
      "text/plain": [
       "            ID                        Name Sex   Age  Height  Weight    Team  \\\n",
       "6542      3662         Zygmunt Jzef Anczok   M  26.0   178.0    77.0  Poland   \n",
       "42834    22103             Lesaw mikiewicz   M  24.0   172.0    71.0  Poland   \n",
       "54599    28004             Kazimierz Deyna   M  24.0   179.0    72.0  Poland   \n",
       "74518    37853              Robert Gadocha   M  26.0   170.0    69.0  Poland   \n",
       "82381    41851            Jerzy Pawe Gorgo   M  23.0   187.0    88.0  Poland   \n",
       "87019    44138                Zbigniew Gut   M  23.0   179.0    77.0  Poland   \n",
       "121475   61419           Kazimierz Kmiecik   M  20.0   175.0    69.0  Poland   \n",
       "125071   63124         Hubert Jerzy Kostka   M  32.0   178.0    75.0  Poland   \n",
       "126444   63762           Jerzy Adam Kraska   M  20.0   176.0    70.0  Poland   \n",
       "133140   67019       Grzegorz Bolesaw Lato   M  22.0   175.0    71.0  Poland   \n",
       "143351   71944  Wodzimierz Leonard Lubaski   M  25.0   178.0    77.0  Poland   \n",
       "151452   76019          Joachim Jerzy Marx   M  27.0   180.0    75.0  Poland   \n",
       "152046   76313       Zygmunt Pawe Maszczyk   M  27.0   175.0    71.0  Poland   \n",
       "178695   89818     Marian Wiesaw Ostafiski   M  25.0   181.0    78.0  Poland   \n",
       "234511  117600     Zygfryd Ludwik Szotysik   M  29.0   162.0    60.0  Poland   \n",
       "234606  117651      Antoni Jan Szymanowski   M  21.0   180.0    73.0  Poland   \n",
       "234622  117662     Ryszard Wiesaw Szymczak   M  27.0   170.0    65.0  Poland   \n",
       "\n",
       "        NOC        Games  Year  Season    City     Sport  \\\n",
       "6542    POL  1972 Summer  1972  Summer  Munich  Football   \n",
       "42834   POL  1972 Summer  1972  Summer  Munich  Football   \n",
       "54599   POL  1972 Summer  1972  Summer  Munich  Football   \n",
       "74518   POL  1972 Summer  1972  Summer  Munich  Football   \n",
       "82381   POL  1972 Summer  1972  Summer  Munich  Football   \n",
       "87019   POL  1972 Summer  1972  Summer  Munich  Football   \n",
       "121475  POL  1972 Summer  1972  Summer  Munich  Football   \n",
       "125071  POL  1972 Summer  1972  Summer  Munich  Football   \n",
       "126444  POL  1972 Summer  1972  Summer  Munich  Football   \n",
       "133140  POL  1972 Summer  1972  Summer  Munich  Football   \n",
       "143351  POL  1972 Summer  1972  Summer  Munich  Football   \n",
       "151452  POL  1972 Summer  1972  Summer  Munich  Football   \n",
       "152046  POL  1972 Summer  1972  Summer  Munich  Football   \n",
       "178695  POL  1972 Summer  1972  Summer  Munich  Football   \n",
       "234511  POL  1972 Summer  1972  Summer  Munich  Football   \n",
       "234606  POL  1972 Summer  1972  Summer  Munich  Football   \n",
       "234622  POL  1972 Summer  1972  Summer  Munich  Football   \n",
       "\n",
       "                          Event Medal  region notes  \n",
       "6542    Football Men's Football  Gold  Poland   NaN  \n",
       "42834   Football Men's Football  Gold  Poland   NaN  \n",
       "54599   Football Men's Football  Gold  Poland   NaN  \n",
       "74518   Football Men's Football  Gold  Poland   NaN  \n",
       "82381   Football Men's Football  Gold  Poland   NaN  \n",
       "87019   Football Men's Football  Gold  Poland   NaN  \n",
       "121475  Football Men's Football  Gold  Poland   NaN  \n",
       "125071  Football Men's Football  Gold  Poland   NaN  \n",
       "126444  Football Men's Football  Gold  Poland   NaN  \n",
       "133140  Football Men's Football  Gold  Poland   NaN  \n",
       "143351  Football Men's Football  Gold  Poland   NaN  \n",
       "151452  Football Men's Football  Gold  Poland   NaN  \n",
       "152046  Football Men's Football  Gold  Poland   NaN  \n",
       "178695  Football Men's Football  Gold  Poland   NaN  \n",
       "234511  Football Men's Football  Gold  Poland   NaN  \n",
       "234606  Football Men's Football  Gold  Poland   NaN  \n",
       "234622  Football Men's Football  Gold  Poland   NaN  "
      ]
     },
     "execution_count": 83,
     "metadata": {},
     "output_type": "execute_result"
    }
   ],
   "source": [
    "football_team = pl_gold_medals[pl_gold_medals.Event == \"Football Men's Football\"]\n",
    "football_team"
   ]
  },
  {
   "cell_type": "markdown",
   "metadata": {},
   "source": [
    "## Age"
   ]
  },
  {
   "cell_type": "code",
   "execution_count": 84,
   "metadata": {},
   "outputs": [
    {
     "name": "stdout",
     "output_type": "stream",
     "text": [
      "Average age: 24.764705882352942\n"
     ]
    }
   ],
   "source": [
    "print('Average age:',football_team.Age.mean())"
   ]
  },
  {
   "cell_type": "markdown",
   "metadata": {},
   "source": [
    "## Height & Weight:"
   ]
  },
  {
   "cell_type": "code",
   "execution_count": 85,
   "metadata": {},
   "outputs": [
    {
     "data": {
      "image/png": "[encoded data removed]",
      "text/plain": [
       "<Figure size 1080x360 with 1 Axes>"
      ]
     },
     "metadata": {
      "needs_background": "light"
     },
     "output_type": "display_data"
    }
   ],
   "source": [
    "plt.figure(figsize=(15,5))\n",
    "sns.scatterplot(x='Height',y='Weight',data=football_team);"
   ]
  },
  {
   "cell_type": "code",
   "execution_count": 86,
   "metadata": {},
   "outputs": [
    {
     "name": "stdout",
     "output_type": "stream",
     "text": [
      "Average Height: 176.1764705882353\n",
      "Average Weight: 72.82352941176471\n"
     ]
    }
   ],
   "source": [
    "print('Average Height:', football_team.Height.mean())\n",
    "print('Average Weight:', football_team.Weight.mean())"
   ]
  },
  {
   "cell_type": "code",
   "execution_count": 88,
   "metadata": {},
   "outputs": [
    {
     "data": {
      "image/png": "[encoded data removed]",
      "text/plain": [
       "<Figure size 1080x720 with 2 Axes>"
      ]
     },
     "metadata": {
      "needs_background": "light"
     },
     "output_type": "display_data"
    }
   ],
   "source": [
    "football_team_corr = football_team.corr()\n",
    "plt.figure(figsize=(15,10))\n",
    "sns.heatmap(football_team_corr,annot=True,lw=.8, cmap=\"Blues\");"
   ]
  },
  {
   "cell_type": "code",
   "execution_count": null,
   "metadata": {},
   "outputs": [],
   "source": []
  }
 ],
 "metadata": {
  "kernelspec": {
   "display_name": "Python 3",
   "language": "python",
   "name": "python3"
  },
  "language_info": {
   "codemirror_mode": {
    "name": "ipython",
    "version": 3
   },
   "file_extension": ".py",
   "mimetype": "text/x-python",
   "name": "python",
   "nbconvert_exporter": "python",
   "pygments_lexer": "ipython3",
   "version": "3.7.2"
  }
 },
 "nbformat": 4,
 "nbformat_minor": 1
}
